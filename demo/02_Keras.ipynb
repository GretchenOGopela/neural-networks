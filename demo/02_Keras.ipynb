{
 "cells": [
  {
   "cell_type": "markdown",
   "metadata": {},
   "source": [
    "# Keras\n",
    "\n",
    "This notebook shows how to solve a trivial problem by creating a network using keras"
   ]
  },
  {
   "cell_type": "markdown",
   "metadata": {},
   "source": [
    "### Import the needed modules"
   ]
  },
  {
   "cell_type": "code",
   "execution_count": 1,
   "metadata": {
    "ExecuteTime": {
     "end_time": "2019-03-04T00:51:28.770102Z",
     "start_time": "2019-03-04T00:51:26.901703Z"
    }
   },
   "outputs": [
    {
     "name": "stderr",
     "output_type": "stream",
     "text": [
      "Using TensorFlow backend.\n"
     ]
    }
   ],
   "source": [
    "from keras.models import Model\n",
    "from keras.layers import Dense, Input\n",
    "from keras.optimizers import SGD\n",
    "from keras.losses import mean_squared_error\n",
    "from keras.activations import relu\n",
    "import numpy as np\n",
    "import random"
   ]
  },
  {
   "cell_type": "markdown",
   "metadata": {},
   "source": [
    "### Define the connections of the nodes in the network"
   ]
  },
  {
   "cell_type": "code",
   "execution_count": 2,
   "metadata": {
    "ExecuteTime": {
     "end_time": "2019-03-04T00:51:28.822243Z",
     "start_time": "2019-03-04T00:51:28.772704Z"
    }
   },
   "outputs": [],
   "source": [
    "input_ = Input(shape=(2,))\n",
    "dense1 = Dense(2, activation=relu)(input_)\n",
    "dense2 = Dense(5, activation=relu)(dense1)\n",
    "output = Dense(1)(dense2)"
   ]
  },
  {
   "cell_type": "markdown",
   "metadata": {},
   "source": [
    "### Define a model from the input node to the last dense node"
   ]
  },
  {
   "cell_type": "code",
   "execution_count": 3,
   "metadata": {
    "ExecuteTime": {
     "end_time": "2019-03-04T00:51:28.961143Z",
     "start_time": "2019-03-04T00:51:28.823704Z"
    }
   },
   "outputs": [],
   "source": [
    "model = Model(inputs=input_, outputs=output)"
   ]
  },
  {
   "cell_type": "markdown",
   "metadata": {},
   "source": [
    "### Verify the structure of the created model"
   ]
  },
  {
   "cell_type": "code",
   "execution_count": 4,
   "metadata": {
    "ExecuteTime": {
     "end_time": "2019-03-04T00:51:29.045700Z",
     "start_time": "2019-03-04T00:51:28.963721Z"
    }
   },
   "outputs": [
    {
     "name": "stdout",
     "output_type": "stream",
     "text": [
      "_________________________________________________________________\n",
      "Layer (type)                 Output Shape              Param #   \n",
      "=================================================================\n",
      "input_1 (InputLayer)         (None, 2)                 0         \n",
      "_________________________________________________________________\n",
      "dense_1 (Dense)              (None, 2)                 6         \n",
      "_________________________________________________________________\n",
      "dense_2 (Dense)              (None, 5)                 15        \n",
      "_________________________________________________________________\n",
      "dense_3 (Dense)              (None, 1)                 6         \n",
      "=================================================================\n",
      "Total params: 27\n",
      "Trainable params: 27\n",
      "Non-trainable params: 0\n",
      "_________________________________________________________________\n"
     ]
    }
   ],
   "source": [
    "model.summary()"
   ]
  },
  {
   "cell_type": "markdown",
   "metadata": {
    "ExecuteTime": {
     "end_time": "2019-03-04T00:44:12.037008Z",
     "start_time": "2019-03-04T00:44:12.035040Z"
    }
   },
   "source": [
    "### Compile the model by providing the optimization algorithm and the loss function"
   ]
  },
  {
   "cell_type": "code",
   "execution_count": 5,
   "metadata": {
    "ExecuteTime": {
     "end_time": "2019-03-04T00:51:29.148182Z",
     "start_time": "2019-03-04T00:51:29.049706Z"
    }
   },
   "outputs": [],
   "source": [
    "model.compile(SGD(), mean_squared_error)"
   ]
  },
  {
   "cell_type": "markdown",
   "metadata": {
    "ExecuteTime": {
     "end_time": "2019-03-04T00:40:50.404861Z",
     "start_time": "2019-03-04T00:40:50.400890Z"
    }
   },
   "source": [
    "### Define the non linear toy problem to check if the network will work"
   ]
  },
  {
   "cell_type": "code",
   "execution_count": 6,
   "metadata": {
    "ExecuteTime": {
     "end_time": "2019-03-04T00:51:29.215212Z",
     "start_time": "2019-03-04T00:51:29.149705Z"
    }
   },
   "outputs": [],
   "source": [
    "def function(x, y):\n",
    "    return 5*x**2 - 3*y**2 + 3"
   ]
  },
  {
   "cell_type": "markdown",
   "metadata": {},
   "source": [
    "### Generate random values and calculate the label using the toy problem"
   ]
  },
  {
   "cell_type": "code",
   "execution_count": 7,
   "metadata": {
    "ExecuteTime": {
     "end_time": "2019-03-04T00:51:29.299702Z",
     "start_time": "2019-03-04T00:51:29.216706Z"
    }
   },
   "outputs": [],
   "source": [
    "Xs = [random.random() for _ in range(100)]\n",
    "Ys = [random.random() for _ in range(100)]\n",
    "Zs = [function(x, y) for x, y in zip(Xs, Ys)]"
   ]
  },
  {
   "cell_type": "markdown",
   "metadata": {},
   "source": [
    "### View the generated values"
   ]
  },
  {
   "cell_type": "code",
   "execution_count": 8,
   "metadata": {
    "ExecuteTime": {
     "end_time": "2019-03-04T00:51:29.401745Z",
     "start_time": "2019-03-04T00:51:29.300705Z"
    }
   },
   "outputs": [
    {
     "data": {
      "text/plain": [
       "[0.5670005354740494,\n",
       " 0.04369404242923136,\n",
       " 0.7946118127762859,\n",
       " 0.7776265012287111,\n",
       " 0.23863759260857453]"
      ]
     },
     "execution_count": 8,
     "metadata": {},
     "output_type": "execute_result"
    }
   ],
   "source": [
    "Xs[:5]"
   ]
  },
  {
   "cell_type": "code",
   "execution_count": 9,
   "metadata": {
    "ExecuteTime": {
     "end_time": "2019-03-04T00:51:29.481744Z",
     "start_time": "2019-03-04T00:51:29.402704Z"
    }
   },
   "outputs": [
    {
     "data": {
      "text/plain": [
       "[0.545809784350117,\n",
       " 0.009910906450821266,\n",
       " 0.21253056168768825,\n",
       " 0.7067006966481526,\n",
       " 0.22202962797852177]"
      ]
     },
     "execution_count": 9,
     "metadata": {},
     "output_type": "execute_result"
    }
   ],
   "source": [
    "Ys[:5]"
   ]
  },
  {
   "cell_type": "code",
   "execution_count": 10,
   "metadata": {
    "ExecuteTime": {
     "end_time": "2019-03-04T00:51:29.566703Z",
     "start_time": "2019-03-04T00:51:29.483703Z"
    }
   },
   "outputs": [
    {
     "data": {
      "text/plain": [
       "[3.7137230740623304,\n",
       " 3.0092511685190066,\n",
       " 6.021531946064223,\n",
       " 4.525237253137081,\n",
       " 3.1368480359292374]"
      ]
     },
     "execution_count": 10,
     "metadata": {},
     "output_type": "execute_result"
    }
   ],
   "source": [
    "Zs[:5]"
   ]
  },
  {
   "cell_type": "markdown",
   "metadata": {},
   "source": [
    "### Combine all the features into a single 2D array"
   ]
  },
  {
   "cell_type": "code",
   "execution_count": 11,
   "metadata": {
    "ExecuteTime": {
     "end_time": "2019-03-04T00:51:29.649704Z",
     "start_time": "2019-03-04T00:51:29.567709Z"
    }
   },
   "outputs": [],
   "source": [
    "XYs = list(zip(Xs, Ys))"
   ]
  },
  {
   "cell_type": "code",
   "execution_count": 12,
   "metadata": {
    "ExecuteTime": {
     "end_time": "2019-03-04T00:51:29.748702Z",
     "start_time": "2019-03-04T00:51:29.651705Z"
    }
   },
   "outputs": [
    {
     "data": {
      "text/plain": [
       "[(0.5670005354740494, 0.545809784350117),\n",
       " (0.04369404242923136, 0.009910906450821266),\n",
       " (0.7946118127762859, 0.21253056168768825),\n",
       " (0.7776265012287111, 0.7067006966481526),\n",
       " (0.23863759260857453, 0.22202962797852177)]"
      ]
     },
     "execution_count": 12,
     "metadata": {},
     "output_type": "execute_result"
    }
   ],
   "source": [
    "XYs[:5]"
   ]
  },
  {
   "cell_type": "markdown",
   "metadata": {
    "ExecuteTime": {
     "end_time": "2019-03-04T00:45:30.260196Z",
     "start_time": "2019-03-04T00:45:30.257152Z"
    }
   },
   "source": [
    "### Convert the feature arrays and the label arrays to numpy array"
   ]
  },
  {
   "cell_type": "code",
   "execution_count": 13,
   "metadata": {
    "ExecuteTime": {
     "end_time": "2019-03-04T00:51:29.832700Z",
     "start_time": "2019-03-04T00:51:29.750705Z"
    }
   },
   "outputs": [],
   "source": [
    "XYs_np = np.array(XYs)\n",
    "Zs_np = np.array(Zs)"
   ]
  },
  {
   "cell_type": "code",
   "execution_count": 14,
   "metadata": {
    "ExecuteTime": {
     "end_time": "2019-03-04T00:51:39.752666Z",
     "start_time": "2019-03-04T00:51:29.833704Z"
    }
   },
   "outputs": [
    {
     "name": "stdout",
     "output_type": "stream",
     "text": [
      "Epoch 1/100\n",
      "100/100 [==============================] - 2s 23ms/step - loss: 8.4715\n",
      "Epoch 2/100\n",
      "100/100 [==============================] - 0s 810us/step - loss: 2.9410\n",
      "Epoch 3/100\n",
      "100/100 [==============================] - 0s 983us/step - loss: 2.6771\n",
      "Epoch 4/100\n",
      "100/100 [==============================] - 0s 850us/step - loss: 2.6782\n",
      "Epoch 5/100\n",
      "100/100 [==============================] - 0s 700us/step - loss: 2.6025\n",
      "Epoch 6/100\n",
      "100/100 [==============================] - 0s 730us/step - loss: 2.6470\n",
      "Epoch 7/100\n",
      "100/100 [==============================] - 0s 720us/step - loss: 2.6971\n",
      "Epoch 8/100\n",
      "100/100 [==============================] - 0s 700us/step - loss: 2.6921\n",
      "Epoch 9/100\n",
      "100/100 [==============================] - 0s 730us/step - loss: 2.6655\n",
      "Epoch 10/100\n",
      "100/100 [==============================] - 0s 680us/step - loss: 2.6721\n",
      "Epoch 11/100\n",
      "100/100 [==============================] - 0s 790us/step - loss: 2.7112\n",
      "Epoch 12/100\n",
      "100/100 [==============================] - 0s 860us/step - loss: 2.6467\n",
      "Epoch 13/100\n",
      "100/100 [==============================] - 0s 830us/step - loss: 2.6792\n",
      "Epoch 14/100\n",
      "100/100 [==============================] - 0s 770us/step - loss: 2.6408\n",
      "Epoch 15/100\n",
      "100/100 [==============================] - 0s 830us/step - loss: 2.6667\n",
      "Epoch 16/100\n",
      "100/100 [==============================] - 0s 706us/step - loss: 2.6658\n",
      "Epoch 17/100\n",
      "100/100 [==============================] - 0s 740us/step - loss: 2.6672\n",
      "Epoch 18/100\n",
      "100/100 [==============================] - 0s 700us/step - loss: 2.6416\n",
      "Epoch 19/100\n",
      "100/100 [==============================] - 0s 810us/step - loss: 2.6744\n",
      "Epoch 20/100\n",
      "100/100 [==============================] - 0s 870us/step - loss: 2.6819\n",
      "Epoch 21/100\n",
      "100/100 [==============================] - 0s 830us/step - loss: 2.6504\n",
      "Epoch 22/100\n",
      "100/100 [==============================] - 0s 740us/step - loss: 2.6761\n",
      "Epoch 23/100\n",
      "100/100 [==============================] - 0s 690us/step - loss: 2.6552\n",
      "Epoch 24/100\n",
      "100/100 [==============================] - 0s 690us/step - loss: 2.6741\n",
      "Epoch 25/100\n",
      "100/100 [==============================] - 0s 720us/step - loss: 2.6906\n",
      "Epoch 26/100\n",
      "100/100 [==============================] - 0s 650us/step - loss: 2.6421\n",
      "Epoch 27/100\n",
      "100/100 [==============================] - 0s 620us/step - loss: 2.7091\n",
      "Epoch 28/100\n",
      "100/100 [==============================] - 0s 620us/step - loss: 2.7180\n",
      "Epoch 29/100\n",
      "100/100 [==============================] - 0s 680us/step - loss: 2.6652\n",
      "Epoch 30/100\n",
      "100/100 [==============================] - 0s 670us/step - loss: 2.6666\n",
      "Epoch 31/100\n",
      "100/100 [==============================] - 0s 630us/step - loss: 2.6913\n",
      "Epoch 32/100\n",
      "100/100 [==============================] - 0s 630us/step - loss: 2.6858\n",
      "Epoch 33/100\n",
      "100/100 [==============================] - 0s 740us/step - loss: 2.6970\n",
      "Epoch 34/100\n",
      "100/100 [==============================] - 0s 780us/step - loss: 2.6851\n",
      "Epoch 35/100\n",
      "100/100 [==============================] - 0s 710us/step - loss: 2.7097\n",
      "Epoch 36/100\n",
      "100/100 [==============================] - 0s 810us/step - loss: 2.6950\n",
      "Epoch 37/100\n",
      "100/100 [==============================] - 0s 840us/step - loss: 2.6803\n",
      "Epoch 38/100\n",
      "100/100 [==============================] - 0s 820us/step - loss: 2.6559\n",
      "Epoch 39/100\n",
      "100/100 [==============================] - 0s 820us/step - loss: 2.6822\n",
      "Epoch 40/100\n",
      "100/100 [==============================] - 0s 810us/step - loss: 2.6607\n",
      "Epoch 41/100\n",
      "100/100 [==============================] - 0s 730us/step - loss: 2.6767\n",
      "Epoch 42/100\n",
      "100/100 [==============================] - 0s 750us/step - loss: 2.6641\n",
      "Epoch 43/100\n",
      "100/100 [==============================] - 0s 790us/step - loss: 2.7187\n",
      "Epoch 44/100\n",
      "100/100 [==============================] - 0s 680us/step - loss: 2.7029\n",
      "Epoch 45/100\n",
      "100/100 [==============================] - 0s 720us/step - loss: 2.6638\n",
      "Epoch 46/100\n",
      "100/100 [==============================] - 0s 750us/step - loss: 2.6730\n",
      "Epoch 47/100\n",
      "100/100 [==============================] - 0s 720us/step - loss: 2.6563\n",
      "Epoch 48/100\n",
      "100/100 [==============================] - 0s 910us/step - loss: 2.6923\n",
      "Epoch 49/100\n",
      "100/100 [==============================] - 0s 1000us/step - loss: 2.6821\n",
      "Epoch 50/100\n",
      "100/100 [==============================] - 0s 780us/step - loss: 2.6533\n",
      "Epoch 51/100\n",
      "100/100 [==============================] - 0s 740us/step - loss: 2.6756\n",
      "Epoch 52/100\n",
      "100/100 [==============================] - 0s 770us/step - loss: 2.7117\n",
      "Epoch 53/100\n",
      "100/100 [==============================] - 0s 720us/step - loss: 2.6754\n",
      "Epoch 54/100\n",
      "100/100 [==============================] - 0s 670us/step - loss: 2.7141\n",
      "Epoch 55/100\n",
      "100/100 [==============================] - 0s 700us/step - loss: 2.6912\n",
      "Epoch 56/100\n",
      "100/100 [==============================] - 0s 765us/step - loss: 2.6688\n",
      "Epoch 57/100\n",
      "100/100 [==============================] - 0s 690us/step - loss: 2.6838\n",
      "Epoch 58/100\n",
      "100/100 [==============================] - 0s 650us/step - loss: 2.6801\n",
      "Epoch 59/100\n",
      "100/100 [==============================] - 0s 660us/step - loss: 2.6689\n",
      "Epoch 60/100\n",
      "100/100 [==============================] - 0s 650us/step - loss: 2.6706\n",
      "Epoch 61/100\n",
      "100/100 [==============================] - 0s 680us/step - loss: 2.6315\n",
      "Epoch 62/100\n",
      "100/100 [==============================] - 0s 830us/step - loss: 2.6997\n",
      "Epoch 63/100\n",
      "100/100 [==============================] - 0s 740us/step - loss: 2.6412\n",
      "Epoch 64/100\n",
      "100/100 [==============================] - 0s 760us/step - loss: 2.6749\n",
      "Epoch 65/100\n",
      "100/100 [==============================] - 0s 680us/step - loss: 2.6799\n",
      "Epoch 66/100\n",
      "100/100 [==============================] - 0s 710us/step - loss: 2.6788\n",
      "Epoch 67/100\n",
      "100/100 [==============================] - 0s 710us/step - loss: 2.6259\n",
      "Epoch 68/100\n",
      "100/100 [==============================] - 0s 710us/step - loss: 2.6718\n",
      "Epoch 69/100\n",
      "100/100 [==============================] - 0s 840us/step - loss: 2.6793\n",
      "Epoch 70/100\n",
      "100/100 [==============================] - 0s 800us/step - loss: 2.6552\n",
      "Epoch 71/100\n",
      "100/100 [==============================] - 0s 830us/step - loss: 2.6185\n",
      "Epoch 72/100\n",
      "100/100 [==============================] - 0s 750us/step - loss: 2.5864\n",
      "Epoch 73/100\n",
      "100/100 [==============================] - 0s 720us/step - loss: 2.3796\n",
      "Epoch 74/100\n",
      "100/100 [==============================] - 0s 740us/step - loss: 1.9070\n",
      "Epoch 75/100\n",
      "100/100 [==============================] - 0s 860us/step - loss: 1.3239\n",
      "Epoch 76/100\n",
      "100/100 [==============================] - 0s 740us/step - loss: 0.7946\n",
      "Epoch 77/100\n",
      "100/100 [==============================] - 0s 800us/step - loss: 0.4870\n",
      "Epoch 78/100\n",
      "100/100 [==============================] - 0s 650us/step - loss: 0.3062\n",
      "Epoch 79/100\n",
      "100/100 [==============================] - 0s 650us/step - loss: 0.2300\n",
      "Epoch 80/100\n",
      "100/100 [==============================] - 0s 680us/step - loss: 0.1880\n",
      "Epoch 81/100\n",
      "100/100 [==============================] - 0s 700us/step - loss: 0.1954\n",
      "Epoch 82/100\n",
      "100/100 [==============================] - 0s 660us/step - loss: 0.1800\n",
      "Epoch 83/100\n",
      "100/100 [==============================] - 0s 770us/step - loss: 0.1632\n",
      "Epoch 84/100\n",
      "100/100 [==============================] - 0s 610us/step - loss: 0.1556\n",
      "Epoch 85/100\n",
      "100/100 [==============================] - 0s 670us/step - loss: 0.1556\n",
      "Epoch 86/100\n",
      "100/100 [==============================] - 0s 660us/step - loss: 0.1531\n",
      "Epoch 87/100\n",
      "100/100 [==============================] - 0s 650us/step - loss: 0.1543\n",
      "Epoch 88/100\n",
      "100/100 [==============================] - 0s 680us/step - loss: 0.1533\n",
      "Epoch 89/100\n",
      "100/100 [==============================] - 0s 660us/step - loss: 0.1446\n",
      "Epoch 90/100\n",
      "100/100 [==============================] - 0s 760us/step - loss: 0.1512\n",
      "Epoch 91/100\n",
      "100/100 [==============================] - 0s 950us/step - loss: 0.1570\n",
      "Epoch 92/100\n",
      "100/100 [==============================] - 0s 710us/step - loss: 0.1441\n",
      "Epoch 93/100\n",
      "100/100 [==============================] - 0s 700us/step - loss: 0.1460\n",
      "Epoch 94/100\n",
      "100/100 [==============================] - 0s 710us/step - loss: 0.1438\n",
      "Epoch 95/100\n",
      "100/100 [==============================] - 0s 760us/step - loss: 0.1436\n",
      "Epoch 96/100\n",
      "100/100 [==============================] - 0s 690us/step - loss: 0.1328\n",
      "Epoch 97/100\n"
     ]
    },
    {
     "name": "stdout",
     "output_type": "stream",
     "text": [
      "100/100 [==============================] - 0s 676us/step - loss: 0.1353\n",
      "Epoch 98/100\n",
      "100/100 [==============================] - 0s 650us/step - loss: 0.1451\n",
      "Epoch 99/100\n",
      "100/100 [==============================] - 0s 530us/step - loss: 0.1358\n",
      "Epoch 100/100\n",
      "100/100 [==============================] - 0s 570us/step - loss: 0.1473\n"
     ]
    },
    {
     "data": {
      "text/plain": [
       "<keras.callbacks.History at 0x220c46964a8>"
      ]
     },
     "execution_count": 14,
     "metadata": {},
     "output_type": "execute_result"
    }
   ],
   "source": [
    "model.fit(XYs_np, Zs_np, batch_size=4, epochs=100)"
   ]
  },
  {
   "cell_type": "markdown",
   "metadata": {},
   "source": [
    "### Predict the label using the model and verify the result"
   ]
  },
  {
   "cell_type": "code",
   "execution_count": 15,
   "metadata": {
    "ExecuteTime": {
     "end_time": "2019-03-04T00:51:39.775697Z",
     "start_time": "2019-03-04T00:51:39.753668Z"
    }
   },
   "outputs": [],
   "source": [
    "Zs_pred = model.predict(XYs_np)"
   ]
  },
  {
   "cell_type": "code",
   "execution_count": 16,
   "metadata": {
    "ExecuteTime": {
     "end_time": "2019-03-04T00:51:39.986712Z",
     "start_time": "2019-03-04T00:51:39.777670Z"
    }
   },
   "outputs": [
    {
     "data": {
      "text/plain": [
       "array([[3.8040776],\n",
       "       [2.6815064],\n",
       "       [6.086591 ],\n",
       "       [4.4295197],\n",
       "       [3.0601397]], dtype=float32)"
      ]
     },
     "execution_count": 16,
     "metadata": {},
     "output_type": "execute_result"
    }
   ],
   "source": [
    "Zs_pred[:5]"
   ]
  },
  {
   "cell_type": "code",
   "execution_count": 17,
   "metadata": {
    "ExecuteTime": {
     "end_time": "2019-03-04T00:51:40.106666Z",
     "start_time": "2019-03-04T00:51:39.987670Z"
    }
   },
   "outputs": [
    {
     "data": {
      "text/plain": [
       "[3.7137230740623304,\n",
       " 3.0092511685190066,\n",
       " 6.021531946064223,\n",
       " 4.525237253137081,\n",
       " 3.1368480359292374]"
      ]
     },
     "execution_count": 17,
     "metadata": {},
     "output_type": "execute_result"
    }
   ],
   "source": [
    "Zs[:5]"
   ]
  },
  {
   "cell_type": "markdown",
   "metadata": {},
   "source": [
    "### The loss can also be calculated using the ```evaluate``` function"
   ]
  },
  {
   "cell_type": "code",
   "execution_count": 18,
   "metadata": {
    "ExecuteTime": {
     "end_time": "2019-03-04T00:51:40.278678Z",
     "start_time": "2019-03-04T00:51:40.111667Z"
    }
   },
   "outputs": [
    {
     "name": "stdout",
     "output_type": "stream",
     "text": [
      "100/100 [==============================] - 0s 400us/step\n"
     ]
    },
    {
     "data": {
      "text/plain": [
       "0.12432017683982849"
      ]
     },
     "execution_count": 18,
     "metadata": {},
     "output_type": "execute_result"
    }
   ],
   "source": [
    "model.evaluate(np.array(XYs), Zs)"
   ]
  }
 ],
 "metadata": {
  "kernelspec": {
   "display_name": "Python 3",
   "language": "python",
   "name": "python3"
  },
  "language_info": {
   "codemirror_mode": {
    "name": "ipython",
    "version": 3
   },
   "file_extension": ".py",
   "mimetype": "text/x-python",
   "name": "python",
   "nbconvert_exporter": "python",
   "pygments_lexer": "ipython3",
   "version": "3.6.8"
  }
 },
 "nbformat": 4,
 "nbformat_minor": 2
}
