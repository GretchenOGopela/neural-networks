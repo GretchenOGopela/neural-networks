{
 "cells": [
  {
   "cell_type": "code",
   "execution_count": 17,
   "metadata": {
    "ExecuteTime": {
     "end_time": "2019-03-02T06:43:12.154163Z",
     "start_time": "2019-03-02T06:43:12.149825Z"
    }
   },
   "outputs": [],
   "source": [
    "from keras.models import Model\n",
    "from keras.layers import Dense, Input\n",
    "from keras.optimizers import SGD\n",
    "from keras.losses import mean_squared_error\n",
    "from keras.activations import relu\n",
    "import numpy as np\n",
    "import random"
   ]
  },
  {
   "cell_type": "code",
   "execution_count": 19,
   "metadata": {
    "ExecuteTime": {
     "end_time": "2019-03-02T06:43:46.774999Z",
     "start_time": "2019-03-02T06:43:46.723918Z"
    }
   },
   "outputs": [],
   "source": [
    "input_ = Input(shape=(2,))\n",
    "dense1 = Dense(2, activation=relu)(input_)\n",
    "dense2 = Dense(5, activation=relu)(dense1)\n",
    "output = Dense(1)(dense2)"
   ]
  },
  {
   "cell_type": "code",
   "execution_count": 3,
   "metadata": {
    "ExecuteTime": {
     "end_time": "2019-03-02T06:28:19.033284Z",
     "start_time": "2019-03-02T06:28:19.027518Z"
    }
   },
   "outputs": [],
   "source": [
    "model = Model(inputs=input_, outputs=output)"
   ]
  },
  {
   "cell_type": "code",
   "execution_count": 4,
   "metadata": {
    "ExecuteTime": {
     "end_time": "2019-03-02T06:28:19.053293Z",
     "start_time": "2019-03-02T06:28:19.038286Z"
    }
   },
   "outputs": [
    {
     "name": "stdout",
     "output_type": "stream",
     "text": [
      "_________________________________________________________________\n",
      "Layer (type)                 Output Shape              Param #   \n",
      "=================================================================\n",
      "input_1 (InputLayer)         (None, 2)                 0         \n",
      "_________________________________________________________________\n",
      "dense_1 (Dense)              (None, 2)                 6         \n",
      "_________________________________________________________________\n",
      "dense_2 (Dense)              (None, 5)                 15        \n",
      "_________________________________________________________________\n",
      "dense_3 (Dense)              (None, 1)                 6         \n",
      "=================================================================\n",
      "Total params: 27\n",
      "Trainable params: 27\n",
      "Non-trainable params: 0\n",
      "_________________________________________________________________\n"
     ]
    }
   ],
   "source": [
    "model.summary()"
   ]
  },
  {
   "cell_type": "code",
   "execution_count": 5,
   "metadata": {
    "ExecuteTime": {
     "end_time": "2019-03-02T06:28:19.069311Z",
     "start_time": "2019-03-02T06:28:19.060287Z"
    }
   },
   "outputs": [],
   "source": [
    "def function(x, y):\n",
    "    return 5*x - 3*y + 3"
   ]
  },
  {
   "cell_type": "code",
   "execution_count": 6,
   "metadata": {
    "ExecuteTime": {
     "end_time": "2019-03-02T06:28:19.087820Z",
     "start_time": "2019-03-02T06:28:19.071285Z"
    }
   },
   "outputs": [],
   "source": [
    "Xs = [random.random() for _ in range(100)]\n",
    "Ys = [random.random() for _ in range(100)]\n",
    "Zs = [function(x, y) for x, y in zip(Xs, Ys)]"
   ]
  },
  {
   "cell_type": "code",
   "execution_count": 7,
   "metadata": {
    "ExecuteTime": {
     "end_time": "2019-03-02T06:28:19.125108Z",
     "start_time": "2019-03-02T06:28:19.093295Z"
    }
   },
   "outputs": [
    {
     "data": {
      "text/plain": [
       "[0.427927220501241,\n",
       " 0.8757945336499099,\n",
       " 0.9444201429876652,\n",
       " 0.1666917669607425,\n",
       " 0.4765597173336348]"
      ]
     },
     "execution_count": 7,
     "metadata": {},
     "output_type": "execute_result"
    }
   ],
   "source": [
    "Xs[:5]"
   ]
  },
  {
   "cell_type": "code",
   "execution_count": 8,
   "metadata": {
    "ExecuteTime": {
     "end_time": "2019-03-02T06:28:19.146303Z",
     "start_time": "2019-03-02T06:28:19.130289Z"
    }
   },
   "outputs": [
    {
     "data": {
      "text/plain": [
       "[0.3299458448715533,\n",
       " 0.38718905187114405,\n",
       " 0.8651682690861607,\n",
       " 0.7801802135449151,\n",
       " 0.9300199165189966]"
      ]
     },
     "execution_count": 8,
     "metadata": {},
     "output_type": "execute_result"
    }
   ],
   "source": [
    "Ys[:5]"
   ]
  },
  {
   "cell_type": "code",
   "execution_count": 9,
   "metadata": {
    "ExecuteTime": {
     "end_time": "2019-03-02T06:28:19.166290Z",
     "start_time": "2019-03-02T06:28:19.148284Z"
    }
   },
   "outputs": [
    {
     "data": {
      "text/plain": [
       "[4.149798567891545,\n",
       " 6.217405512636117,\n",
       " 5.126595907679843,\n",
       " 1.4929181941689675,\n",
       " 2.5927388371111837]"
      ]
     },
     "execution_count": 9,
     "metadata": {},
     "output_type": "execute_result"
    }
   ],
   "source": [
    "Zs[:5]"
   ]
  },
  {
   "cell_type": "code",
   "execution_count": 10,
   "metadata": {
    "ExecuteTime": {
     "end_time": "2019-03-02T06:28:19.185918Z",
     "start_time": "2019-03-02T06:28:19.169286Z"
    }
   },
   "outputs": [],
   "source": [
    "XYs = list(zip(Xs, Ys))"
   ]
  },
  {
   "cell_type": "code",
   "execution_count": 11,
   "metadata": {
    "ExecuteTime": {
     "end_time": "2019-03-02T06:28:19.206421Z",
     "start_time": "2019-03-02T06:28:19.187849Z"
    }
   },
   "outputs": [
    {
     "data": {
      "text/plain": [
       "[(0.427927220501241, 0.3299458448715533),\n",
       " (0.8757945336499099, 0.38718905187114405),\n",
       " (0.9444201429876652, 0.8651682690861607),\n",
       " (0.1666917669607425, 0.7801802135449151),\n",
       " (0.4765597173336348, 0.9300199165189966)]"
      ]
     },
     "execution_count": 11,
     "metadata": {},
     "output_type": "execute_result"
    }
   ],
   "source": [
    "XYs[:5]"
   ]
  },
  {
   "cell_type": "code",
   "execution_count": 12,
   "metadata": {
    "ExecuteTime": {
     "end_time": "2019-03-02T06:28:19.262949Z",
     "start_time": "2019-03-02T06:28:19.211872Z"
    }
   },
   "outputs": [],
   "source": [
    "model.compile(SGD(), mean_squared_error)"
   ]
  },
  {
   "cell_type": "code",
   "execution_count": 22,
   "metadata": {
    "ExecuteTime": {
     "end_time": "2019-03-02T07:30:14.112827Z",
     "start_time": "2019-03-02T07:30:13.792941Z"
    }
   },
   "outputs": [
    {
     "name": "stdout",
     "output_type": "stream",
     "text": [
      "Epoch 1/10\n",
      "100/100 [==============================] - 0s 260us/step - loss: 1.6561e-08\n",
      "Epoch 2/10\n",
      "100/100 [==============================] - 0s 310us/step - loss: 5.8947e-09\n",
      "Epoch 3/10\n",
      "100/100 [==============================] - 0s 350us/step - loss: 2.0224e-09\n",
      "Epoch 4/10\n",
      "100/100 [==============================] - 0s 361us/step - loss: 7.6389e-10\n",
      "Epoch 5/10\n",
      "100/100 [==============================] - 0s 310us/step - loss: 2.3312e-10\n",
      "Epoch 6/10\n",
      "100/100 [==============================] - 0s 320us/step - loss: 8.4290e-11\n",
      "Epoch 7/10\n",
      "100/100 [==============================] - 0s 370us/step - loss: 2.9408e-11\n",
      "Epoch 8/10\n",
      "100/100 [==============================] - 0s 200us/step - loss: 1.1490e-11\n",
      "Epoch 9/10\n",
      "100/100 [==============================] - 0s 300us/step - loss: 3.5815e-12\n",
      "Epoch 10/10\n",
      "100/100 [==============================] - 0s 260us/step - loss: 1.3971e-12\n"
     ]
    },
    {
     "data": {
      "text/plain": [
       "<keras.callbacks.History at 0x26bffafda90>"
      ]
     },
     "execution_count": 22,
     "metadata": {},
     "output_type": "execute_result"
    }
   ],
   "source": [
    "model.fit(np.array(XYs), Zs, batch_size=4, epochs=10)"
   ]
  },
  {
   "cell_type": "code",
   "execution_count": 14,
   "metadata": {
    "ExecuteTime": {
     "end_time": "2019-03-02T06:28:19.827014Z",
     "start_time": "2019-03-02T06:28:19.800896Z"
    }
   },
   "outputs": [],
   "source": [
    "Zs_prediction = model.predict(np.array(XYs))"
   ]
  },
  {
   "cell_type": "code",
   "execution_count": 15,
   "metadata": {
    "ExecuteTime": {
     "end_time": "2019-03-02T06:28:19.834895Z",
     "start_time": "2019-03-02T06:28:19.829874Z"
    }
   },
   "outputs": [
    {
     "data": {
      "text/plain": [
       "array([[4.128039 ],\n",
       "       [6.2209134],\n",
       "       [5.1767373],\n",
       "       [1.5004952],\n",
       "       [2.6278439]], dtype=float32)"
      ]
     },
     "execution_count": 15,
     "metadata": {},
     "output_type": "execute_result"
    }
   ],
   "source": [
    "Zs_prediction[:5]"
   ]
  },
  {
   "cell_type": "code",
   "execution_count": 16,
   "metadata": {
    "ExecuteTime": {
     "end_time": "2019-03-02T06:28:19.852869Z",
     "start_time": "2019-03-02T06:28:19.836868Z"
    }
   },
   "outputs": [
    {
     "data": {
      "text/plain": [
       "[4.149798567891545,\n",
       " 6.217405512636117,\n",
       " 5.126595907679843,\n",
       " 1.4929181941689675,\n",
       " 2.5927388371111837]"
      ]
     },
     "execution_count": 16,
     "metadata": {},
     "output_type": "execute_result"
    }
   ],
   "source": [
    "Zs[:5]"
   ]
  },
  {
   "cell_type": "code",
   "execution_count": 20,
   "metadata": {
    "ExecuteTime": {
     "end_time": "2019-03-02T07:29:48.801182Z",
     "start_time": "2019-03-02T07:29:48.704466Z"
    }
   },
   "outputs": [
    {
     "name": "stdout",
     "output_type": "stream",
     "text": [
      "100/100 [==============================] - 0s 878us/step\n"
     ]
    },
    {
     "data": {
      "text/plain": [
       "0.0009362184256315231"
      ]
     },
     "execution_count": 20,
     "metadata": {},
     "output_type": "execute_result"
    }
   ],
   "source": [
    "model.evaluate(np.array(XYs), Zs)"
   ]
  }
 ],
 "metadata": {
  "kernelspec": {
   "display_name": "Python 3",
   "language": "python",
   "name": "python3"
  },
  "language_info": {
   "codemirror_mode": {
    "name": "ipython",
    "version": 3
   },
   "file_extension": ".py",
   "mimetype": "text/x-python",
   "name": "python",
   "nbconvert_exporter": "python",
   "pygments_lexer": "ipython3",
   "version": "3.6.8"
  }
 },
 "nbformat": 4,
 "nbformat_minor": 2
}
