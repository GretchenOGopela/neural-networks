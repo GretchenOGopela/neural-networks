{
 "cells": [
  {
   "cell_type": "markdown",
   "metadata": {},
   "source": [
    "# Dense Networks\n",
    "\n",
    "This notebook shows how to apply dense networks into real life data"
   ]
  },
  {
   "cell_type": "markdown",
   "metadata": {},
   "source": [
    "### Import all the needed modules"
   ]
  },
  {
   "cell_type": "code",
   "execution_count": 1,
   "metadata": {
    "ExecuteTime": {
     "end_time": "2019-03-04T02:06:51.078493Z",
     "start_time": "2019-03-04T02:06:51.072493Z"
    }
   },
   "outputs": [],
   "source": [
    "import os # Used to create directory\n",
    "\n",
    "import numpy as np\n",
    "import pandas as pd # Used for reading datasets\n",
    "import tensorflow as tf\n",
    "from sklearn.preprocessing import OneHotEncoder, StandardScaler # Used for data normalization\n",
    "from sklearn.model_selection import train_test_split # Used for dataset division"
   ]
  },
  {
   "cell_type": "markdown",
   "metadata": {},
   "source": [
    "### Define the path of the data source for convenience\n",
    "\n",
    "The data can be downloaded here https://www.kaggle.com/c/microsoft-malware-prediction/data"
   ]
  },
  {
   "cell_type": "code",
   "execution_count": 2,
   "metadata": {
    "ExecuteTime": {
     "end_time": "2019-03-04T01:31:10.921205Z",
     "start_time": "2019-03-04T01:31:10.918203Z"
    }
   },
   "outputs": [],
   "source": [
    "CSV_PATH='train.csv'"
   ]
  },
  {
   "cell_type": "markdown",
   "metadata": {
    "ExecuteTime": {
     "end_time": "2019-03-04T01:17:11.711621Z",
     "start_time": "2019-03-04T01:17:11.707579Z"
    }
   },
   "source": [
    "### Read the first 10,000 rows of the data"
   ]
  },
  {
   "cell_type": "code",
   "execution_count": 3,
   "metadata": {
    "ExecuteTime": {
     "end_time": "2019-03-04T01:34:12.769732Z",
     "start_time": "2019-03-04T01:34:10.579732Z"
    }
   },
   "outputs": [],
   "source": [
    "df = pd.read_csv(CSV_PATH, nrows=10000)"
   ]
  },
  {
   "cell_type": "markdown",
   "metadata": {},
   "source": [
    "### View the loaded dataset"
   ]
  },
  {
   "cell_type": "code",
   "execution_count": 4,
   "metadata": {
    "ExecuteTime": {
     "end_time": "2019-03-04T01:34:17.899198Z",
     "start_time": "2019-03-04T01:34:17.573188Z"
    }
   },
   "outputs": [
    {
     "data": {
      "text/html": [
       "<div>\n",
       "<style scoped>\n",
       "    .dataframe tbody tr th:only-of-type {\n",
       "        vertical-align: middle;\n",
       "    }\n",
       "\n",
       "    .dataframe tbody tr th {\n",
       "        vertical-align: top;\n",
       "    }\n",
       "\n",
       "    .dataframe thead th {\n",
       "        text-align: right;\n",
       "    }\n",
       "</style>\n",
       "<table border=\"1\" class=\"dataframe\">\n",
       "  <thead>\n",
       "    <tr style=\"text-align: right;\">\n",
       "      <th></th>\n",
       "      <th>MachineIdentifier</th>\n",
       "      <th>ProductName</th>\n",
       "      <th>EngineVersion</th>\n",
       "      <th>AppVersion</th>\n",
       "      <th>AvSigVersion</th>\n",
       "      <th>IsBeta</th>\n",
       "      <th>RtpStateBitfield</th>\n",
       "      <th>IsSxsPassiveMode</th>\n",
       "      <th>DefaultBrowsersIdentifier</th>\n",
       "      <th>AVProductStatesIdentifier</th>\n",
       "      <th>...</th>\n",
       "      <th>Census_FirmwareVersionIdentifier</th>\n",
       "      <th>Census_IsSecureBootEnabled</th>\n",
       "      <th>Census_IsWIMBootEnabled</th>\n",
       "      <th>Census_IsVirtualDevice</th>\n",
       "      <th>Census_IsTouchEnabled</th>\n",
       "      <th>Census_IsPenCapable</th>\n",
       "      <th>Census_IsAlwaysOnAlwaysConnectedCapable</th>\n",
       "      <th>Wdft_IsGamer</th>\n",
       "      <th>Wdft_RegionIdentifier</th>\n",
       "      <th>HasDetections</th>\n",
       "    </tr>\n",
       "  </thead>\n",
       "  <tbody>\n",
       "    <tr>\n",
       "      <th>0</th>\n",
       "      <td>0000028988387b115f69f31a3bf04f09</td>\n",
       "      <td>win8defender</td>\n",
       "      <td>1.1.15100.1</td>\n",
       "      <td>4.18.1807.18075</td>\n",
       "      <td>1.273.1735.0</td>\n",
       "      <td>0</td>\n",
       "      <td>7.0</td>\n",
       "      <td>0</td>\n",
       "      <td>NaN</td>\n",
       "      <td>53447.0</td>\n",
       "      <td>...</td>\n",
       "      <td>36144.0</td>\n",
       "      <td>0</td>\n",
       "      <td>NaN</td>\n",
       "      <td>0.0</td>\n",
       "      <td>0</td>\n",
       "      <td>0</td>\n",
       "      <td>0.0</td>\n",
       "      <td>0.0</td>\n",
       "      <td>10.0</td>\n",
       "      <td>0</td>\n",
       "    </tr>\n",
       "    <tr>\n",
       "      <th>1</th>\n",
       "      <td>000007535c3f730efa9ea0b7ef1bd645</td>\n",
       "      <td>win8defender</td>\n",
       "      <td>1.1.14600.4</td>\n",
       "      <td>4.13.17134.1</td>\n",
       "      <td>1.263.48.0</td>\n",
       "      <td>0</td>\n",
       "      <td>7.0</td>\n",
       "      <td>0</td>\n",
       "      <td>NaN</td>\n",
       "      <td>53447.0</td>\n",
       "      <td>...</td>\n",
       "      <td>57858.0</td>\n",
       "      <td>0</td>\n",
       "      <td>NaN</td>\n",
       "      <td>0.0</td>\n",
       "      <td>0</td>\n",
       "      <td>0</td>\n",
       "      <td>0.0</td>\n",
       "      <td>0.0</td>\n",
       "      <td>8.0</td>\n",
       "      <td>0</td>\n",
       "    </tr>\n",
       "    <tr>\n",
       "      <th>2</th>\n",
       "      <td>000007905a28d863f6d0d597892cd692</td>\n",
       "      <td>win8defender</td>\n",
       "      <td>1.1.15100.1</td>\n",
       "      <td>4.18.1807.18075</td>\n",
       "      <td>1.273.1341.0</td>\n",
       "      <td>0</td>\n",
       "      <td>7.0</td>\n",
       "      <td>0</td>\n",
       "      <td>NaN</td>\n",
       "      <td>53447.0</td>\n",
       "      <td>...</td>\n",
       "      <td>52682.0</td>\n",
       "      <td>0</td>\n",
       "      <td>NaN</td>\n",
       "      <td>0.0</td>\n",
       "      <td>0</td>\n",
       "      <td>0</td>\n",
       "      <td>0.0</td>\n",
       "      <td>0.0</td>\n",
       "      <td>3.0</td>\n",
       "      <td>0</td>\n",
       "    </tr>\n",
       "    <tr>\n",
       "      <th>3</th>\n",
       "      <td>00000b11598a75ea8ba1beea8459149f</td>\n",
       "      <td>win8defender</td>\n",
       "      <td>1.1.15100.1</td>\n",
       "      <td>4.18.1807.18075</td>\n",
       "      <td>1.273.1527.0</td>\n",
       "      <td>0</td>\n",
       "      <td>7.0</td>\n",
       "      <td>0</td>\n",
       "      <td>NaN</td>\n",
       "      <td>53447.0</td>\n",
       "      <td>...</td>\n",
       "      <td>20050.0</td>\n",
       "      <td>0</td>\n",
       "      <td>NaN</td>\n",
       "      <td>0.0</td>\n",
       "      <td>0</td>\n",
       "      <td>0</td>\n",
       "      <td>0.0</td>\n",
       "      <td>0.0</td>\n",
       "      <td>3.0</td>\n",
       "      <td>1</td>\n",
       "    </tr>\n",
       "    <tr>\n",
       "      <th>4</th>\n",
       "      <td>000014a5f00daa18e76b81417eeb99fc</td>\n",
       "      <td>win8defender</td>\n",
       "      <td>1.1.15100.1</td>\n",
       "      <td>4.18.1807.18075</td>\n",
       "      <td>1.273.1379.0</td>\n",
       "      <td>0</td>\n",
       "      <td>7.0</td>\n",
       "      <td>0</td>\n",
       "      <td>NaN</td>\n",
       "      <td>53447.0</td>\n",
       "      <td>...</td>\n",
       "      <td>19844.0</td>\n",
       "      <td>0</td>\n",
       "      <td>0.0</td>\n",
       "      <td>0.0</td>\n",
       "      <td>0</td>\n",
       "      <td>0</td>\n",
       "      <td>0.0</td>\n",
       "      <td>0.0</td>\n",
       "      <td>1.0</td>\n",
       "      <td>1</td>\n",
       "    </tr>\n",
       "  </tbody>\n",
       "</table>\n",
       "<p>5 rows × 83 columns</p>\n",
       "</div>"
      ],
      "text/plain": [
       "                  MachineIdentifier   ProductName EngineVersion  \\\n",
       "0  0000028988387b115f69f31a3bf04f09  win8defender   1.1.15100.1   \n",
       "1  000007535c3f730efa9ea0b7ef1bd645  win8defender   1.1.14600.4   \n",
       "2  000007905a28d863f6d0d597892cd692  win8defender   1.1.15100.1   \n",
       "3  00000b11598a75ea8ba1beea8459149f  win8defender   1.1.15100.1   \n",
       "4  000014a5f00daa18e76b81417eeb99fc  win8defender   1.1.15100.1   \n",
       "\n",
       "        AppVersion  AvSigVersion  IsBeta  RtpStateBitfield  IsSxsPassiveMode  \\\n",
       "0  4.18.1807.18075  1.273.1735.0       0               7.0                 0   \n",
       "1     4.13.17134.1    1.263.48.0       0               7.0                 0   \n",
       "2  4.18.1807.18075  1.273.1341.0       0               7.0                 0   \n",
       "3  4.18.1807.18075  1.273.1527.0       0               7.0                 0   \n",
       "4  4.18.1807.18075  1.273.1379.0       0               7.0                 0   \n",
       "\n",
       "   DefaultBrowsersIdentifier  AVProductStatesIdentifier  ...  \\\n",
       "0                        NaN                    53447.0  ...   \n",
       "1                        NaN                    53447.0  ...   \n",
       "2                        NaN                    53447.0  ...   \n",
       "3                        NaN                    53447.0  ...   \n",
       "4                        NaN                    53447.0  ...   \n",
       "\n",
       "   Census_FirmwareVersionIdentifier  Census_IsSecureBootEnabled  \\\n",
       "0                           36144.0                           0   \n",
       "1                           57858.0                           0   \n",
       "2                           52682.0                           0   \n",
       "3                           20050.0                           0   \n",
       "4                           19844.0                           0   \n",
       "\n",
       "   Census_IsWIMBootEnabled  Census_IsVirtualDevice  Census_IsTouchEnabled  \\\n",
       "0                      NaN                     0.0                      0   \n",
       "1                      NaN                     0.0                      0   \n",
       "2                      NaN                     0.0                      0   \n",
       "3                      NaN                     0.0                      0   \n",
       "4                      0.0                     0.0                      0   \n",
       "\n",
       "   Census_IsPenCapable  Census_IsAlwaysOnAlwaysConnectedCapable  Wdft_IsGamer  \\\n",
       "0                    0                                      0.0           0.0   \n",
       "1                    0                                      0.0           0.0   \n",
       "2                    0                                      0.0           0.0   \n",
       "3                    0                                      0.0           0.0   \n",
       "4                    0                                      0.0           0.0   \n",
       "\n",
       "  Wdft_RegionIdentifier HasDetections  \n",
       "0                  10.0             0  \n",
       "1                   8.0             0  \n",
       "2                   3.0             0  \n",
       "3                   3.0             1  \n",
       "4                   1.0             1  \n",
       "\n",
       "[5 rows x 83 columns]"
      ]
     },
     "execution_count": 4,
     "metadata": {},
     "output_type": "execute_result"
    }
   ],
   "source": [
    "df.head()"
   ]
  },
  {
   "cell_type": "markdown",
   "metadata": {},
   "source": [
    "### Extract the labels of the data"
   ]
  },
  {
   "cell_type": "code",
   "execution_count": 5,
   "metadata": {
    "ExecuteTime": {
     "end_time": "2019-03-04T01:34:45.042942Z",
     "start_time": "2019-03-04T01:34:45.038948Z"
    }
   },
   "outputs": [],
   "source": [
    "y = df['HasDetections'].values"
   ]
  },
  {
   "cell_type": "code",
   "execution_count": 6,
   "metadata": {
    "ExecuteTime": {
     "end_time": "2019-03-04T01:34:45.621977Z",
     "start_time": "2019-03-04T01:34:45.614984Z"
    }
   },
   "outputs": [
    {
     "data": {
      "text/plain": [
       "array([0, 0, 0, ..., 1, 1, 0])"
      ]
     },
     "execution_count": 6,
     "metadata": {},
     "output_type": "execute_result"
    }
   ],
   "source": [
    "y"
   ]
  },
  {
   "cell_type": "markdown",
   "metadata": {},
   "source": [
    "### Select a few columns as features"
   ]
  },
  {
   "cell_type": "code",
   "execution_count": 7,
   "metadata": {
    "ExecuteTime": {
     "end_time": "2019-03-04T01:40:55.373291Z",
     "start_time": "2019-03-04T01:40:55.359319Z"
    }
   },
   "outputs": [
    {
     "data": {
      "text/html": [
       "<div>\n",
       "<style scoped>\n",
       "    .dataframe tbody tr th:only-of-type {\n",
       "        vertical-align: middle;\n",
       "    }\n",
       "\n",
       "    .dataframe tbody tr th {\n",
       "        vertical-align: top;\n",
       "    }\n",
       "\n",
       "    .dataframe thead th {\n",
       "        text-align: right;\n",
       "    }\n",
       "</style>\n",
       "<table border=\"1\" class=\"dataframe\">\n",
       "  <thead>\n",
       "    <tr style=\"text-align: right;\">\n",
       "      <th></th>\n",
       "      <th>ProductName</th>\n",
       "      <th>Platform</th>\n",
       "      <th>OsBuild</th>\n",
       "      <th>AVProductsInstalled</th>\n",
       "    </tr>\n",
       "  </thead>\n",
       "  <tbody>\n",
       "    <tr>\n",
       "      <th>0</th>\n",
       "      <td>win8defender</td>\n",
       "      <td>windows10</td>\n",
       "      <td>17134</td>\n",
       "      <td>1.0</td>\n",
       "    </tr>\n",
       "    <tr>\n",
       "      <th>1</th>\n",
       "      <td>win8defender</td>\n",
       "      <td>windows10</td>\n",
       "      <td>17134</td>\n",
       "      <td>1.0</td>\n",
       "    </tr>\n",
       "    <tr>\n",
       "      <th>2</th>\n",
       "      <td>win8defender</td>\n",
       "      <td>windows10</td>\n",
       "      <td>17134</td>\n",
       "      <td>1.0</td>\n",
       "    </tr>\n",
       "    <tr>\n",
       "      <th>3</th>\n",
       "      <td>win8defender</td>\n",
       "      <td>windows10</td>\n",
       "      <td>17134</td>\n",
       "      <td>1.0</td>\n",
       "    </tr>\n",
       "    <tr>\n",
       "      <th>4</th>\n",
       "      <td>win8defender</td>\n",
       "      <td>windows10</td>\n",
       "      <td>17134</td>\n",
       "      <td>1.0</td>\n",
       "    </tr>\n",
       "  </tbody>\n",
       "</table>\n",
       "</div>"
      ],
      "text/plain": [
       "    ProductName   Platform  OsBuild  AVProductsInstalled\n",
       "0  win8defender  windows10    17134                  1.0\n",
       "1  win8defender  windows10    17134                  1.0\n",
       "2  win8defender  windows10    17134                  1.0\n",
       "3  win8defender  windows10    17134                  1.0\n",
       "4  win8defender  windows10    17134                  1.0"
      ]
     },
     "execution_count": 7,
     "metadata": {},
     "output_type": "execute_result"
    }
   ],
   "source": [
    "cols_to_use = ['ProductName', 'Platform', 'OsBuild', 'AVProductsInstalled']\n",
    "X_raw = df[cols_to_use]\n",
    "X_raw.head(5)"
   ]
  },
  {
   "cell_type": "markdown",
   "metadata": {},
   "source": [
    "### Check the data for missing data\n",
    "\n",
    "Here we see a missing data for `AVProductsInstalled`"
   ]
  },
  {
   "cell_type": "code",
   "execution_count": null,
   "metadata": {},
   "outputs": [],
   "source": []
  },
  {
   "cell_type": "markdown",
   "metadata": {},
   "source": [
    "### Impute the missing data\n",
    "\n",
    "Using a conservative approach, all missing information are set to 0"
   ]
  },
  {
   "cell_type": "code",
   "execution_count": 8,
   "metadata": {},
   "outputs": [
    {
     "name": "stderr",
     "output_type": "stream",
     "text": [
      "/home/snowtsuku/.miniconda/envs/machine-learning/lib/python3.7/site-packages/pandas/core/indexing.py:965: SettingWithCopyWarning: \n",
      "A value is trying to be set on a copy of a slice from a DataFrame.\n",
      "Try using .loc[row_indexer,col_indexer] = value instead\n",
      "\n",
      "See the caveats in the documentation: https://pandas.pydata.org/pandas-docs/stable/user_guide/indexing.html#returning-a-view-versus-a-copy\n",
      "  self.obj[item] = s\n"
     ]
    }
   ],
   "source": [
    "X_raw.loc[X_raw['AVProductsInstalled'].isna(), 'AVProductsInstalled'] = 0"
   ]
  },
  {
   "cell_type": "code",
   "execution_count": 9,
   "metadata": {},
   "outputs": [
    {
     "data": {
      "text/plain": [
       "ProductName            False\n",
       "Platform               False\n",
       "OsBuild                False\n",
       "AVProductsInstalled    False\n",
       "dtype: bool"
      ]
     },
     "execution_count": 9,
     "metadata": {},
     "output_type": "execute_result"
    }
   ],
   "source": [
    "X_raw.isna().any(axis=0)"
   ]
  },
  {
   "cell_type": "markdown",
   "metadata": {},
   "source": [
    "### Split the data to training and test"
   ]
  },
  {
   "cell_type": "code",
   "execution_count": 10,
   "metadata": {
    "ExecuteTime": {
     "end_time": "2019-03-04T01:41:11.447293Z",
     "start_time": "2019-03-04T01:41:11.436321Z"
    }
   },
   "outputs": [
    {
     "name": "stdout",
     "output_type": "stream",
     "text": [
      "train_X_raw: (8000, 4)\n",
      "test_X_raw: (2000, 4)\n",
      "train_y: (8000,)\n",
      "test_y: (2000,)\n"
     ]
    }
   ],
   "source": [
    "train_X_raw, test_X_raw, train_y, test_y = train_test_split(X_raw, y, test_size=0.2, random_state=0, stratify=y)\n",
    "print(f'train_X_raw: {train_X_raw.shape}')\n",
    "print(f'test_X_raw: {test_X_raw.shape}')\n",
    "print(f'train_y: {train_y.shape}')\n",
    "print(f'test_y: {test_y.shape}')"
   ]
  },
  {
   "cell_type": "markdown",
   "metadata": {},
   "source": [
    "### Define encoders to convert the data to numeric"
   ]
  },
  {
   "cell_type": "code",
   "execution_count": 11,
   "metadata": {
    "ExecuteTime": {
     "end_time": "2019-03-04T01:58:53.776286Z",
     "start_time": "2019-03-04T01:58:53.772314Z"
    }
   },
   "outputs": [],
   "source": [
    "encoders = [\n",
    "    OneHotEncoder(sparse=False, handle_unknown='ignore'), # ProductName\n",
    "    OneHotEncoder(sparse=False, handle_unknown='ignore'), # Platform\n",
    "    OneHotEncoder(sparse=False, handle_unknown='ignore', categories='auto'), # OsBuild\n",
    "    StandardScaler(), # AVProductsInstalled\n",
    "]"
   ]
  },
  {
   "cell_type": "markdown",
   "metadata": {},
   "source": [
    "### Encode the training data. Note the use of the ```fit_transform``` for the training encoding"
   ]
  },
  {
   "cell_type": "code",
   "execution_count": 12,
   "metadata": {
    "ExecuteTime": {
     "end_time": "2019-03-04T01:58:55.672314Z",
     "start_time": "2019-03-04T01:58:54.361283Z"
    }
   },
   "outputs": [
    {
     "data": {
      "text/plain": [
       "(8000, 27)"
      ]
     },
     "execution_count": 12,
     "metadata": {},
     "output_type": "execute_result"
    }
   ],
   "source": [
    "train_X = []\n",
    "for e, c in zip(encoders, train_X_raw.columns):\n",
    "    column_np = train_X_raw[[c]].values\n",
    "    column_encoded = e.fit_transform(column_np)\n",
    "    train_X.append(column_encoded)\n",
    "train_X = np.concatenate(train_X, axis=1)\n",
    "train_X.shape"
   ]
  },
  {
   "cell_type": "markdown",
   "metadata": {},
   "source": [
    "### Encode the test data. Note the use of ``transform`` only for the testing encoding"
   ]
  },
  {
   "cell_type": "code",
   "execution_count": 13,
   "metadata": {
    "ExecuteTime": {
     "end_time": "2019-03-04T01:59:11.160287Z",
     "start_time": "2019-03-04T01:59:11.145284Z"
    }
   },
   "outputs": [
    {
     "data": {
      "text/plain": [
       "(2000, 27)"
      ]
     },
     "execution_count": 13,
     "metadata": {},
     "output_type": "execute_result"
    }
   ],
   "source": [
    "test_X = []\n",
    "for e, c in zip(encoders, test_X_raw.columns):\n",
    "    column_np = test_X_raw[[c]].values\n",
    "    column_encoded = e.transform(column_np)\n",
    "    test_X.append(column_encoded)\n",
    "test_X = np.concatenate(test_X, axis=1)\n",
    "test_X.shape"
   ]
  },
  {
   "cell_type": "markdown",
   "metadata": {},
   "source": [
    "### Create a Keras model to train for training"
   ]
  },
  {
   "cell_type": "code",
   "execution_count": 14,
   "metadata": {
    "ExecuteTime": {
     "end_time": "2019-03-04T02:00:31.611493Z",
     "start_time": "2019-03-04T02:00:29.235388Z"
    }
   },
   "outputs": [],
   "source": [
    "input_ = tf.keras.layers.Input(shape=(27,))\n",
    "dense1 = tf.keras.layers.Dense(256, activation='relu')(input_)\n",
    "reg1 = tf.keras.layers.Dropout(0.1)(dense1) # tf.keras.layers.BatchNormalization()(dense1)\n",
    "dense2 = tf.keras.layers.Dense(256, activation='relu')(reg1)\n",
    "reg2 = tf.keras.layers.Dropout(0.1)(dense2) # tf.keras.layers.BatchNormalization()(dense1)\n",
    "# dense3 = tf.keras.layers.Dense(256, activation='relu', \n",
    "#                                kernel_regularizer=tf.keras.regularizers.l1_l2(l1=0.01, l2=0.01))(reg2)\n",
    "dense3 = tf.keras.layers.Dense(256, activation='relu')(reg2)\n",
    "output = tf.keras.layers.Dense(1, activation='sigmoid')(dense3)"
   ]
  },
  {
   "cell_type": "code",
   "execution_count": 15,
   "metadata": {
    "ExecuteTime": {
     "end_time": "2019-03-04T02:00:32.972283Z",
     "start_time": "2019-03-04T02:00:32.968284Z"
    }
   },
   "outputs": [],
   "source": [
    "model = tf.keras.Model(inputs=input_, outputs=output)"
   ]
  },
  {
   "cell_type": "code",
   "execution_count": 16,
   "metadata": {
    "ExecuteTime": {
     "end_time": "2019-03-04T02:00:33.577290Z",
     "start_time": "2019-03-04T02:00:33.572284Z"
    },
    "scrolled": true
   },
   "outputs": [
    {
     "name": "stdout",
     "output_type": "stream",
     "text": [
      "Model: \"model\"\n",
      "_________________________________________________________________\n",
      "Layer (type)                 Output Shape              Param #   \n",
      "=================================================================\n",
      "input_1 (InputLayer)         [(None, 27)]              0         \n",
      "_________________________________________________________________\n",
      "dense (Dense)                (None, 256)               7168      \n",
      "_________________________________________________________________\n",
      "dropout (Dropout)            (None, 256)               0         \n",
      "_________________________________________________________________\n",
      "dense_1 (Dense)              (None, 256)               65792     \n",
      "_________________________________________________________________\n",
      "dropout_1 (Dropout)          (None, 256)               0         \n",
      "_________________________________________________________________\n",
      "dense_2 (Dense)              (None, 256)               65792     \n",
      "_________________________________________________________________\n",
      "dense_3 (Dense)              (None, 1)                 257       \n",
      "=================================================================\n",
      "Total params: 139,009\n",
      "Trainable params: 139,009\n",
      "Non-trainable params: 0\n",
      "_________________________________________________________________\n"
     ]
    }
   ],
   "source": [
    "model.summary()"
   ]
  },
  {
   "cell_type": "code",
   "execution_count": 17,
   "metadata": {},
   "outputs": [
    {
     "data": {
      "image/png": "[encoded data removed]",
      "text/plain": [
       "<IPython.core.display.Image object>"
      ]
     },
     "execution_count": 17,
     "metadata": {},
     "output_type": "execute_result"
    }
   ],
   "source": [
    "tf.keras.utils.plot_model(model)"
   ]
  },
  {
   "cell_type": "code",
   "execution_count": 18,
   "metadata": {
    "ExecuteTime": {
     "end_time": "2019-03-04T02:00:37.028553Z",
     "start_time": "2019-03-04T02:00:36.821288Z"
    }
   },
   "outputs": [],
   "source": [
    "model.compile('adam', 'binary_crossentropy')"
   ]
  },
  {
   "cell_type": "markdown",
   "metadata": {},
   "source": [
    "### Define an early stop\n",
    "\n",
    "This allows the training to stop if the validation loss does not improve after ```patience``` number of epochs"
   ]
  },
  {
   "cell_type": "code",
   "execution_count": 19,
   "metadata": {
    "ExecuteTime": {
     "end_time": "2019-03-04T02:02:04.528537Z",
     "start_time": "2019-03-04T02:02:04.524561Z"
    }
   },
   "outputs": [],
   "source": [
    "early_stop = tf.keras.callbacks.EarlyStopping(patience=20, restore_best_weights=True)"
   ]
  },
  {
   "cell_type": "markdown",
   "metadata": {},
   "source": [
    "### Define a model checkpoint\n",
    "\n",
    "This will save the model based on the parameters passed. In this model checkpoint, the best model is saved"
   ]
  },
  {
   "cell_type": "code",
   "execution_count": 20,
   "metadata": {
    "ExecuteTime": {
     "end_time": "2019-03-04T02:03:53.650426Z",
     "start_time": "2019-03-04T02:03:53.646425Z"
    }
   },
   "outputs": [],
   "source": [
    "MODEL_PATH = 'checkpoints/model_at_{epoch:02d}.mdl'\n",
    "os.makedirs(os.path.dirname(MODEL_PATH), exist_ok=True)\n",
    "model_checkpoint = tf.keras.callbacks.ModelCheckpoint(MODEL_PATH, )"
   ]
  },
  {
   "cell_type": "markdown",
   "metadata": {},
   "source": [
    "### Train the model\n",
    "\n",
    "Add a validation split to check for overfitting and provide the early stop and model checkpoint as callbacks"
   ]
  },
  {
   "cell_type": "code",
   "execution_count": 21,
   "metadata": {
    "ExecuteTime": {
     "end_time": "2019-03-04T02:05:46.272495Z",
     "start_time": "2019-03-04T02:05:28.887425Z"
    }
   },
   "outputs": [
    {
     "name": "stdout",
     "output_type": "stream",
     "text": [
      "Train on 6400 samples, validate on 1600 samples\n",
      "Epoch 1/100\n",
      "6336/6400 [============================>.] - ETA: 0s - loss: 0.6850WARNING:tensorflow:From /home/snowtsuku/.miniconda/envs/machine-learning/lib/python3.7/site-packages/tensorflow_core/python/ops/resource_variable_ops.py:1786: calling BaseResourceVariable.__init__ (from tensorflow.python.ops.resource_variable_ops) with constraint is deprecated and will be removed in a future version.\n",
      "Instructions for updating:\n",
      "If using Keras pass *_constraint arguments to layers.\n",
      "INFO:tensorflow:Assets written to: checkpoints/model_at_01.mdl/assets\n",
      "6400/6400 [==============================] - 3s 395us/sample - loss: 0.6852 - val_loss: 0.6877\n",
      "Epoch 2/100\n",
      "6240/6400 [============================>.] - ETA: 0s - loss: 0.6825INFO:tensorflow:Assets written to: checkpoints/model_at_02.mdl/assets\n",
      "6400/6400 [==============================] - 2s 268us/sample - loss: 0.6820 - val_loss: 0.6922\n",
      "Epoch 3/100\n",
      "6144/6400 [===========================>..] - ETA: 0s - loss: 0.6816INFO:tensorflow:Assets written to: checkpoints/model_at_03.mdl/assets\n",
      "6400/6400 [==============================] - 2s 276us/sample - loss: 0.6817 - val_loss: 0.6887\n",
      "Epoch 4/100\n",
      "6368/6400 [============================>.] - ETA: 0s - loss: 0.6811INFO:tensorflow:Assets written to: checkpoints/model_at_04.mdl/assets\n",
      "6400/6400 [==============================] - 2s 238us/sample - loss: 0.6809 - val_loss: 0.6912\n",
      "Epoch 5/100\n",
      "6272/6400 [============================>.] - ETA: 0s - loss: 0.6813INFO:tensorflow:Assets written to: checkpoints/model_at_05.mdl/assets\n",
      "6400/6400 [==============================] - 2s 253us/sample - loss: 0.6814 - val_loss: 0.6877\n",
      "Epoch 6/100\n",
      "6048/6400 [===========================>..] - ETA: 0s - loss: 0.6800INFO:tensorflow:Assets written to: checkpoints/model_at_06.mdl/assets\n",
      "6400/6400 [==============================] - 2s 241us/sample - loss: 0.6806 - val_loss: 0.6859\n",
      "Epoch 7/100\n",
      "6336/6400 [============================>.] - ETA: 0s - loss: 0.6805INFO:tensorflow:Assets written to: checkpoints/model_at_07.mdl/assets\n",
      "6400/6400 [==============================] - 2s 236us/sample - loss: 0.6805 - val_loss: 0.6888\n",
      "Epoch 8/100\n",
      "6080/6400 [===========================>..] - ETA: 0s - loss: 0.6808INFO:tensorflow:Assets written to: checkpoints/model_at_08.mdl/assets\n",
      "6400/6400 [==============================] - 2s 280us/sample - loss: 0.6808 - val_loss: 0.6881\n",
      "Epoch 9/100\n",
      "6208/6400 [============================>.] - ETA: 0s - loss: 0.6807INFO:tensorflow:Assets written to: checkpoints/model_at_09.mdl/assets\n",
      "6400/6400 [==============================] - 2s 253us/sample - loss: 0.6804 - val_loss: 0.6864\n",
      "Epoch 10/100\n",
      "6208/6400 [============================>.] - ETA: 0s - loss: 0.6800INFO:tensorflow:Assets written to: checkpoints/model_at_10.mdl/assets\n",
      "6400/6400 [==============================] - 2s 249us/sample - loss: 0.6798 - val_loss: 0.6899\n",
      "Epoch 11/100\n",
      "6336/6400 [============================>.] - ETA: 0s - loss: 0.6806INFO:tensorflow:Assets written to: checkpoints/model_at_11.mdl/assets\n",
      "6400/6400 [==============================] - 2s 248us/sample - loss: 0.6804 - val_loss: 0.6871\n",
      "Epoch 12/100\n",
      "6016/6400 [===========================>..] - ETA: 0s - loss: 0.6807INFO:tensorflow:Assets written to: checkpoints/model_at_12.mdl/assets\n",
      "6400/6400 [==============================] - 2s 265us/sample - loss: 0.6802 - val_loss: 0.6909\n",
      "Epoch 13/100\n",
      "6368/6400 [============================>.] - ETA: 0s - loss: 0.6796INFO:tensorflow:Assets written to: checkpoints/model_at_13.mdl/assets\n",
      "6400/6400 [==============================] - 2s 245us/sample - loss: 0.6796 - val_loss: 0.6866\n",
      "Epoch 14/100\n",
      "6080/6400 [===========================>..] - ETA: 0s - loss: 0.6792INFO:tensorflow:Assets written to: checkpoints/model_at_14.mdl/assets\n",
      "6400/6400 [==============================] - 2s 263us/sample - loss: 0.6794 - val_loss: 0.6892\n",
      "Epoch 15/100\n",
      "6144/6400 [===========================>..] - ETA: 0s - loss: 0.6796INFO:tensorflow:Assets written to: checkpoints/model_at_15.mdl/assets\n",
      "6400/6400 [==============================] - 2s 244us/sample - loss: 0.6800 - val_loss: 0.6874\n",
      "Epoch 16/100\n",
      "6080/6400 [===========================>..] - ETA: 0s - loss: 0.6789INFO:tensorflow:Assets written to: checkpoints/model_at_16.mdl/assets\n",
      "6400/6400 [==============================] - 2s 249us/sample - loss: 0.6788 - val_loss: 0.6881\n",
      "Epoch 17/100\n",
      "6336/6400 [============================>.] - ETA: 0s - loss: 0.6789INFO:tensorflow:Assets written to: checkpoints/model_at_17.mdl/assets\n",
      "6400/6400 [==============================] - 2s 264us/sample - loss: 0.6790 - val_loss: 0.6900\n",
      "Epoch 18/100\n",
      "6016/6400 [===========================>..] - ETA: 0s - loss: 0.6797INFO:tensorflow:Assets written to: checkpoints/model_at_18.mdl/assets\n",
      "6400/6400 [==============================] - 2s 248us/sample - loss: 0.6795 - val_loss: 0.6873\n",
      "Epoch 19/100\n",
      "5952/6400 [==========================>...] - ETA: 0s - loss: 0.6791INFO:tensorflow:Assets written to: checkpoints/model_at_19.mdl/assets\n",
      "6400/6400 [==============================] - 2s 253us/sample - loss: 0.6791 - val_loss: 0.6898\n",
      "Epoch 20/100\n",
      "6016/6400 [===========================>..] - ETA: 0s - loss: 0.6797INFO:tensorflow:Assets written to: checkpoints/model_at_20.mdl/assets\n",
      "6400/6400 [==============================] - 2s 247us/sample - loss: 0.6793 - val_loss: 0.6883\n",
      "Epoch 21/100\n",
      "6368/6400 [============================>.] - ETA: 0s - loss: 0.6789INFO:tensorflow:Assets written to: checkpoints/model_at_21.mdl/assets\n",
      "6400/6400 [==============================] - 2s 283us/sample - loss: 0.6790 - val_loss: 0.6908\n",
      "Epoch 22/100\n",
      "6240/6400 [============================>.] - ETA: 0s - loss: 0.6792INFO:tensorflow:Assets written to: checkpoints/model_at_22.mdl/assets\n",
      "6400/6400 [==============================] - 2s 252us/sample - loss: 0.6793 - val_loss: 0.6880\n",
      "Epoch 23/100\n",
      "6016/6400 [===========================>..] - ETA: 0s - loss: 0.6781INFO:tensorflow:Assets written to: checkpoints/model_at_23.mdl/assets\n",
      "6400/6400 [==============================] - 2s 248us/sample - loss: 0.6785 - val_loss: 0.6892\n",
      "Epoch 24/100\n",
      "6240/6400 [============================>.] - ETA: 0s - loss: 0.6780INFO:tensorflow:Assets written to: checkpoints/model_at_24.mdl/assets\n",
      "6400/6400 [==============================] - 2s 269us/sample - loss: 0.6782 - val_loss: 0.6887\n",
      "Epoch 25/100\n",
      "6112/6400 [===========================>..] - ETA: 0s - loss: 0.6790INFO:tensorflow:Assets written to: checkpoints/model_at_25.mdl/assets\n",
      "6400/6400 [==============================] - 2s 242us/sample - loss: 0.6781 - val_loss: 0.6964\n",
      "Epoch 26/100\n",
      "5984/6400 [===========================>..] - ETA: 0s - loss: 0.6783INFO:tensorflow:Assets written to: checkpoints/model_at_26.mdl/assets\n",
      "6400/6400 [==============================] - 2s 285us/sample - loss: 0.6787 - val_loss: 0.6903\n"
     ]
    }
   ],
   "source": [
    "training_history = model.fit(train_X, train_y, batch_size=32, epochs=100, validation_split=0.2, callbacks=[early_stop, model_checkpoint])"
   ]
  },
  {
   "cell_type": "markdown",
   "metadata": {},
   "source": [
    "### Save the model"
   ]
  },
  {
   "cell_type": "code",
   "execution_count": 22,
   "metadata": {},
   "outputs": [
    {
     "name": "stdout",
     "output_type": "stream",
     "text": [
      "INFO:tensorflow:Assets written to: model.mdl/assets\n"
     ]
    }
   ],
   "source": [
    "SAVED_MODEL_PATH = 'model.mdl'\n",
    "model.save(SAVED_MODEL_PATH)"
   ]
  },
  {
   "cell_type": "markdown",
   "metadata": {},
   "source": [
    "### Load the saved model"
   ]
  },
  {
   "cell_type": "code",
   "execution_count": 23,
   "metadata": {
    "ExecuteTime": {
     "end_time": "2019-03-04T02:07:06.917547Z",
     "start_time": "2019-03-04T02:07:06.073491Z"
    }
   },
   "outputs": [],
   "source": [
    "saved_model = tf.keras.models.load_model(SAVED_MODEL_PATH)"
   ]
  },
  {
   "cell_type": "markdown",
   "metadata": {},
   "source": [
    "### Verify the structure of the loaded model"
   ]
  },
  {
   "cell_type": "code",
   "execution_count": 24,
   "metadata": {
    "ExecuteTime": {
     "end_time": "2019-03-04T02:07:35.830331Z",
     "start_time": "2019-03-04T02:07:35.825369Z"
    }
   },
   "outputs": [
    {
     "name": "stdout",
     "output_type": "stream",
     "text": [
      "Model: \"model\"\n",
      "_________________________________________________________________\n",
      "Layer (type)                 Output Shape              Param #   \n",
      "=================================================================\n",
      "input_1 (InputLayer)         [(None, 27)]              0         \n",
      "_________________________________________________________________\n",
      "dense (Dense)                (None, 256)               7168      \n",
      "_________________________________________________________________\n",
      "dropout (Dropout)            (None, 256)               0         \n",
      "_________________________________________________________________\n",
      "dense_1 (Dense)              (None, 256)               65792     \n",
      "_________________________________________________________________\n",
      "dropout_1 (Dropout)          (None, 256)               0         \n",
      "_________________________________________________________________\n",
      "dense_2 (Dense)              (None, 256)               65792     \n",
      "_________________________________________________________________\n",
      "dense_3 (Dense)              (None, 1)                 257       \n",
      "=================================================================\n",
      "Total params: 139,009\n",
      "Trainable params: 139,009\n",
      "Non-trainable params: 0\n",
      "_________________________________________________________________\n"
     ]
    }
   ],
   "source": [
    "saved_model.summary()"
   ]
  },
  {
   "cell_type": "code",
   "execution_count": 25,
   "metadata": {},
   "outputs": [
    {
     "data": {
      "image/png": "[encoded data removed]",
      "text/plain": [
       "<IPython.core.display.Image object>"
      ]
     },
     "execution_count": 25,
     "metadata": {},
     "output_type": "execute_result"
    }
   ],
   "source": [
    "tf.keras.utils.plot_model(saved_model)"
   ]
  },
  {
   "cell_type": "markdown",
   "metadata": {},
   "source": [
    "### Consume the best model\n",
    "\n",
    "Prediction and evaluation can be performed on the best model"
   ]
  },
  {
   "cell_type": "code",
   "execution_count": 26,
   "metadata": {
    "ExecuteTime": {
     "end_time": "2019-03-04T02:10:36.174505Z",
     "start_time": "2019-03-04T02:10:35.777968Z"
    }
   },
   "outputs": [],
   "source": [
    "test_y_pred = saved_model.predict(test_X)"
   ]
  },
  {
   "cell_type": "code",
   "execution_count": 27,
   "metadata": {
    "ExecuteTime": {
     "end_time": "2019-03-04T02:10:40.781550Z",
     "start_time": "2019-03-04T02:10:40.612552Z"
    }
   },
   "outputs": [
    {
     "name": "stdout",
     "output_type": "stream",
     "text": [
      "2000/2000 [==============================] - 0s 98us/sample - loss: 0.6860\n"
     ]
    },
    {
     "data": {
      "text/plain": [
       "0.6859685964584351"
      ]
     },
     "execution_count": 27,
     "metadata": {},
     "output_type": "execute_result"
    }
   ],
   "source": [
    "saved_model.evaluate(test_X, test_y)"
   ]
  }
 ],
 "metadata": {
  "kernelspec": {
   "display_name": "Python 3",
   "language": "python",
   "name": "python3"
  },
  "language_info": {
   "codemirror_mode": {
    "name": "ipython",
    "version": 3
   },
   "file_extension": ".py",
   "mimetype": "text/x-python",
   "name": "python",
   "nbconvert_exporter": "python",
   "pygments_lexer": "ipython3",
   "version": "3.7.6"
  }
 },
 "nbformat": 4,
 "nbformat_minor": 2
}
