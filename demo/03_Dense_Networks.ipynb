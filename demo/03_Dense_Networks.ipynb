{
 "cells": [
  {
   "cell_type": "code",
   "execution_count": 49,
   "metadata": {
    "ExecuteTime": {
     "end_time": "2019-03-02T07:10:06.870045Z",
     "start_time": "2019-03-02T07:10:06.864074Z"
    }
   },
   "outputs": [],
   "source": [
    "from keras.models import Model\n",
    "from keras.layers import Dense, Input\n",
    "from keras.optimizers import SGD\n",
    "from keras.losses import binary_crossentropy\n",
    "from keras.activations import relu\n",
    "import pandas as pd\n",
    "import numpy as np\n",
    "from sklearn.preprocessing import OneHotEncoder, OrdinalEncoder"
   ]
  },
  {
   "cell_type": "code",
   "execution_count": 5,
   "metadata": {
    "ExecuteTime": {
     "end_time": "2019-03-02T06:45:42.669765Z",
     "start_time": "2019-03-02T06:45:42.665867Z"
    }
   },
   "outputs": [],
   "source": [
    "CSV_PATH='msft_malware/train.csv'"
   ]
  },
  {
   "cell_type": "code",
   "execution_count": 8,
   "metadata": {
    "ExecuteTime": {
     "end_time": "2019-03-02T06:48:46.773152Z",
     "start_time": "2019-03-02T06:48:46.601308Z"
    }
   },
   "outputs": [],
   "source": [
    "df = pd.read_csv(CSV_PATH, nrows=10000)"
   ]
  },
  {
   "cell_type": "code",
   "execution_count": 12,
   "metadata": {
    "ExecuteTime": {
     "end_time": "2019-03-02T06:50:35.140761Z",
     "start_time": "2019-03-02T06:50:35.136746Z"
    }
   },
   "outputs": [],
   "source": [
    "y = df['HasDetections'].values"
   ]
  },
  {
   "cell_type": "code",
   "execution_count": 48,
   "metadata": {
    "ExecuteTime": {
     "end_time": "2019-03-02T07:09:57.887777Z",
     "start_time": "2019-03-02T07:09:57.882622Z"
    }
   },
   "outputs": [
    {
     "data": {
      "text/plain": [
       "array([0, 0, 0, ..., 1, 1, 0], dtype=int64)"
      ]
     },
     "execution_count": 48,
     "metadata": {},
     "output_type": "execute_result"
    }
   ],
   "source": [
    "y"
   ]
  },
  {
   "cell_type": "code",
   "execution_count": 14,
   "metadata": {
    "ExecuteTime": {
     "end_time": "2019-03-02T06:52:00.294403Z",
     "start_time": "2019-03-02T06:52:00.139404Z"
    }
   },
   "outputs": [
    {
     "data": {
      "text/html": [
       "<div>\n",
       "<style scoped>\n",
       "    .dataframe tbody tr th:only-of-type {\n",
       "        vertical-align: middle;\n",
       "    }\n",
       "\n",
       "    .dataframe tbody tr th {\n",
       "        vertical-align: top;\n",
       "    }\n",
       "\n",
       "    .dataframe thead th {\n",
       "        text-align: right;\n",
       "    }\n",
       "</style>\n",
       "<table border=\"1\" class=\"dataframe\">\n",
       "  <thead>\n",
       "    <tr style=\"text-align: right;\">\n",
       "      <th></th>\n",
       "      <th>MachineIdentifier</th>\n",
       "      <th>ProductName</th>\n",
       "      <th>EngineVersion</th>\n",
       "      <th>AppVersion</th>\n",
       "      <th>AvSigVersion</th>\n",
       "      <th>IsBeta</th>\n",
       "      <th>RtpStateBitfield</th>\n",
       "      <th>IsSxsPassiveMode</th>\n",
       "      <th>DefaultBrowsersIdentifier</th>\n",
       "      <th>AVProductStatesIdentifier</th>\n",
       "      <th>AVProductsInstalled</th>\n",
       "      <th>AVProductsEnabled</th>\n",
       "      <th>HasTpm</th>\n",
       "      <th>CountryIdentifier</th>\n",
       "      <th>CityIdentifier</th>\n",
       "      <th>OrganizationIdentifier</th>\n",
       "      <th>GeoNameIdentifier</th>\n",
       "      <th>LocaleEnglishNameIdentifier</th>\n",
       "      <th>Platform</th>\n",
       "      <th>Processor</th>\n",
       "      <th>OsVer</th>\n",
       "      <th>OsBuild</th>\n",
       "      <th>OsSuite</th>\n",
       "      <th>OsPlatformSubRelease</th>\n",
       "      <th>OsBuildLab</th>\n",
       "      <th>SkuEdition</th>\n",
       "      <th>IsProtected</th>\n",
       "      <th>AutoSampleOptIn</th>\n",
       "      <th>PuaMode</th>\n",
       "      <th>SMode</th>\n",
       "      <th>IeVerIdentifier</th>\n",
       "      <th>SmartScreen</th>\n",
       "      <th>Firewall</th>\n",
       "      <th>UacLuaenable</th>\n",
       "      <th>Census_MDC2FormFactor</th>\n",
       "      <th>Census_DeviceFamily</th>\n",
       "      <th>Census_OEMNameIdentifier</th>\n",
       "      <th>Census_OEMModelIdentifier</th>\n",
       "      <th>Census_ProcessorCoreCount</th>\n",
       "      <th>Census_ProcessorManufacturerIdentifier</th>\n",
       "      <th>...</th>\n",
       "      <th>Census_PrimaryDiskTypeName</th>\n",
       "      <th>Census_SystemVolumeTotalCapacity</th>\n",
       "      <th>Census_HasOpticalDiskDrive</th>\n",
       "      <th>Census_TotalPhysicalRAM</th>\n",
       "      <th>Census_ChassisTypeName</th>\n",
       "      <th>Census_InternalPrimaryDiagonalDisplaySizeInInches</th>\n",
       "      <th>Census_InternalPrimaryDisplayResolutionHorizontal</th>\n",
       "      <th>Census_InternalPrimaryDisplayResolutionVertical</th>\n",
       "      <th>Census_PowerPlatformRoleName</th>\n",
       "      <th>Census_InternalBatteryType</th>\n",
       "      <th>Census_InternalBatteryNumberOfCharges</th>\n",
       "      <th>Census_OSVersion</th>\n",
       "      <th>Census_OSArchitecture</th>\n",
       "      <th>Census_OSBranch</th>\n",
       "      <th>Census_OSBuildNumber</th>\n",
       "      <th>Census_OSBuildRevision</th>\n",
       "      <th>Census_OSEdition</th>\n",
       "      <th>Census_OSSkuName</th>\n",
       "      <th>Census_OSInstallTypeName</th>\n",
       "      <th>Census_OSInstallLanguageIdentifier</th>\n",
       "      <th>Census_OSUILocaleIdentifier</th>\n",
       "      <th>Census_OSWUAutoUpdateOptionsName</th>\n",
       "      <th>Census_IsPortableOperatingSystem</th>\n",
       "      <th>Census_GenuineStateName</th>\n",
       "      <th>Census_ActivationChannel</th>\n",
       "      <th>Census_IsFlightingInternal</th>\n",
       "      <th>Census_IsFlightsDisabled</th>\n",
       "      <th>Census_FlightRing</th>\n",
       "      <th>Census_ThresholdOptIn</th>\n",
       "      <th>Census_FirmwareManufacturerIdentifier</th>\n",
       "      <th>Census_FirmwareVersionIdentifier</th>\n",
       "      <th>Census_IsSecureBootEnabled</th>\n",
       "      <th>Census_IsWIMBootEnabled</th>\n",
       "      <th>Census_IsVirtualDevice</th>\n",
       "      <th>Census_IsTouchEnabled</th>\n",
       "      <th>Census_IsPenCapable</th>\n",
       "      <th>Census_IsAlwaysOnAlwaysConnectedCapable</th>\n",
       "      <th>Wdft_IsGamer</th>\n",
       "      <th>Wdft_RegionIdentifier</th>\n",
       "      <th>HasDetections</th>\n",
       "    </tr>\n",
       "  </thead>\n",
       "  <tbody>\n",
       "    <tr>\n",
       "      <th>0</th>\n",
       "      <td>0000028988387b115f69f31a3bf04f09</td>\n",
       "      <td>win8defender</td>\n",
       "      <td>1.1.15100.1</td>\n",
       "      <td>4.18.1807.18075</td>\n",
       "      <td>1.273.1735.0</td>\n",
       "      <td>0</td>\n",
       "      <td>7.0</td>\n",
       "      <td>0</td>\n",
       "      <td>NaN</td>\n",
       "      <td>53447.0</td>\n",
       "      <td>1.0</td>\n",
       "      <td>1.0</td>\n",
       "      <td>1</td>\n",
       "      <td>29</td>\n",
       "      <td>128035.0</td>\n",
       "      <td>18.0</td>\n",
       "      <td>35</td>\n",
       "      <td>171</td>\n",
       "      <td>windows10</td>\n",
       "      <td>x64</td>\n",
       "      <td>10.0.0.0</td>\n",
       "      <td>17134</td>\n",
       "      <td>256</td>\n",
       "      <td>rs4</td>\n",
       "      <td>17134.1.amd64fre.rs4_release.180410-1804</td>\n",
       "      <td>Pro</td>\n",
       "      <td>1.0</td>\n",
       "      <td>0</td>\n",
       "      <td>NaN</td>\n",
       "      <td>0.0</td>\n",
       "      <td>137.0</td>\n",
       "      <td>NaN</td>\n",
       "      <td>1.0</td>\n",
       "      <td>1.0</td>\n",
       "      <td>Desktop</td>\n",
       "      <td>Windows.Desktop</td>\n",
       "      <td>2668.0</td>\n",
       "      <td>9124.0</td>\n",
       "      <td>4.0</td>\n",
       "      <td>5.0</td>\n",
       "      <td>...</td>\n",
       "      <td>HDD</td>\n",
       "      <td>299451.0</td>\n",
       "      <td>0</td>\n",
       "      <td>4096.0</td>\n",
       "      <td>Desktop</td>\n",
       "      <td>18.9</td>\n",
       "      <td>1440.0</td>\n",
       "      <td>900.0</td>\n",
       "      <td>Desktop</td>\n",
       "      <td>NaN</td>\n",
       "      <td>4.294967e+09</td>\n",
       "      <td>10.0.17134.165</td>\n",
       "      <td>amd64</td>\n",
       "      <td>rs4_release</td>\n",
       "      <td>17134</td>\n",
       "      <td>165</td>\n",
       "      <td>Professional</td>\n",
       "      <td>PROFESSIONAL</td>\n",
       "      <td>UUPUpgrade</td>\n",
       "      <td>26.0</td>\n",
       "      <td>119</td>\n",
       "      <td>UNKNOWN</td>\n",
       "      <td>0</td>\n",
       "      <td>IS_GENUINE</td>\n",
       "      <td>Retail</td>\n",
       "      <td>NaN</td>\n",
       "      <td>0.0</td>\n",
       "      <td>Retail</td>\n",
       "      <td>NaN</td>\n",
       "      <td>628.0</td>\n",
       "      <td>36144.0</td>\n",
       "      <td>0</td>\n",
       "      <td>NaN</td>\n",
       "      <td>0.0</td>\n",
       "      <td>0</td>\n",
       "      <td>0</td>\n",
       "      <td>0.0</td>\n",
       "      <td>0.0</td>\n",
       "      <td>10.0</td>\n",
       "      <td>0</td>\n",
       "    </tr>\n",
       "    <tr>\n",
       "      <th>1</th>\n",
       "      <td>000007535c3f730efa9ea0b7ef1bd645</td>\n",
       "      <td>win8defender</td>\n",
       "      <td>1.1.14600.4</td>\n",
       "      <td>4.13.17134.1</td>\n",
       "      <td>1.263.48.0</td>\n",
       "      <td>0</td>\n",
       "      <td>7.0</td>\n",
       "      <td>0</td>\n",
       "      <td>NaN</td>\n",
       "      <td>53447.0</td>\n",
       "      <td>1.0</td>\n",
       "      <td>1.0</td>\n",
       "      <td>1</td>\n",
       "      <td>93</td>\n",
       "      <td>1482.0</td>\n",
       "      <td>18.0</td>\n",
       "      <td>119</td>\n",
       "      <td>64</td>\n",
       "      <td>windows10</td>\n",
       "      <td>x64</td>\n",
       "      <td>10.0.0.0</td>\n",
       "      <td>17134</td>\n",
       "      <td>256</td>\n",
       "      <td>rs4</td>\n",
       "      <td>17134.1.amd64fre.rs4_release.180410-1804</td>\n",
       "      <td>Pro</td>\n",
       "      <td>1.0</td>\n",
       "      <td>0</td>\n",
       "      <td>NaN</td>\n",
       "      <td>0.0</td>\n",
       "      <td>137.0</td>\n",
       "      <td>NaN</td>\n",
       "      <td>1.0</td>\n",
       "      <td>1.0</td>\n",
       "      <td>Notebook</td>\n",
       "      <td>Windows.Desktop</td>\n",
       "      <td>2668.0</td>\n",
       "      <td>91656.0</td>\n",
       "      <td>4.0</td>\n",
       "      <td>5.0</td>\n",
       "      <td>...</td>\n",
       "      <td>HDD</td>\n",
       "      <td>102385.0</td>\n",
       "      <td>0</td>\n",
       "      <td>4096.0</td>\n",
       "      <td>Notebook</td>\n",
       "      <td>13.9</td>\n",
       "      <td>1366.0</td>\n",
       "      <td>768.0</td>\n",
       "      <td>Mobile</td>\n",
       "      <td>NaN</td>\n",
       "      <td>1.000000e+00</td>\n",
       "      <td>10.0.17134.1</td>\n",
       "      <td>amd64</td>\n",
       "      <td>rs4_release</td>\n",
       "      <td>17134</td>\n",
       "      <td>1</td>\n",
       "      <td>Professional</td>\n",
       "      <td>PROFESSIONAL</td>\n",
       "      <td>IBSClean</td>\n",
       "      <td>8.0</td>\n",
       "      <td>31</td>\n",
       "      <td>UNKNOWN</td>\n",
       "      <td>0</td>\n",
       "      <td>OFFLINE</td>\n",
       "      <td>Retail</td>\n",
       "      <td>NaN</td>\n",
       "      <td>0.0</td>\n",
       "      <td>NOT_SET</td>\n",
       "      <td>NaN</td>\n",
       "      <td>628.0</td>\n",
       "      <td>57858.0</td>\n",
       "      <td>0</td>\n",
       "      <td>NaN</td>\n",
       "      <td>0.0</td>\n",
       "      <td>0</td>\n",
       "      <td>0</td>\n",
       "      <td>0.0</td>\n",
       "      <td>0.0</td>\n",
       "      <td>8.0</td>\n",
       "      <td>0</td>\n",
       "    </tr>\n",
       "    <tr>\n",
       "      <th>2</th>\n",
       "      <td>000007905a28d863f6d0d597892cd692</td>\n",
       "      <td>win8defender</td>\n",
       "      <td>1.1.15100.1</td>\n",
       "      <td>4.18.1807.18075</td>\n",
       "      <td>1.273.1341.0</td>\n",
       "      <td>0</td>\n",
       "      <td>7.0</td>\n",
       "      <td>0</td>\n",
       "      <td>NaN</td>\n",
       "      <td>53447.0</td>\n",
       "      <td>1.0</td>\n",
       "      <td>1.0</td>\n",
       "      <td>1</td>\n",
       "      <td>86</td>\n",
       "      <td>153579.0</td>\n",
       "      <td>18.0</td>\n",
       "      <td>64</td>\n",
       "      <td>49</td>\n",
       "      <td>windows10</td>\n",
       "      <td>x64</td>\n",
       "      <td>10.0.0.0</td>\n",
       "      <td>17134</td>\n",
       "      <td>768</td>\n",
       "      <td>rs4</td>\n",
       "      <td>17134.1.amd64fre.rs4_release.180410-1804</td>\n",
       "      <td>Home</td>\n",
       "      <td>1.0</td>\n",
       "      <td>0</td>\n",
       "      <td>NaN</td>\n",
       "      <td>0.0</td>\n",
       "      <td>137.0</td>\n",
       "      <td>RequireAdmin</td>\n",
       "      <td>1.0</td>\n",
       "      <td>1.0</td>\n",
       "      <td>Desktop</td>\n",
       "      <td>Windows.Desktop</td>\n",
       "      <td>4909.0</td>\n",
       "      <td>317701.0</td>\n",
       "      <td>4.0</td>\n",
       "      <td>5.0</td>\n",
       "      <td>...</td>\n",
       "      <td>SSD</td>\n",
       "      <td>113907.0</td>\n",
       "      <td>0</td>\n",
       "      <td>4096.0</td>\n",
       "      <td>Desktop</td>\n",
       "      <td>21.5</td>\n",
       "      <td>1920.0</td>\n",
       "      <td>1080.0</td>\n",
       "      <td>Desktop</td>\n",
       "      <td>NaN</td>\n",
       "      <td>4.294967e+09</td>\n",
       "      <td>10.0.17134.165</td>\n",
       "      <td>amd64</td>\n",
       "      <td>rs4_release</td>\n",
       "      <td>17134</td>\n",
       "      <td>165</td>\n",
       "      <td>Core</td>\n",
       "      <td>CORE</td>\n",
       "      <td>UUPUpgrade</td>\n",
       "      <td>7.0</td>\n",
       "      <td>30</td>\n",
       "      <td>FullAuto</td>\n",
       "      <td>0</td>\n",
       "      <td>IS_GENUINE</td>\n",
       "      <td>OEM:NONSLP</td>\n",
       "      <td>NaN</td>\n",
       "      <td>0.0</td>\n",
       "      <td>Retail</td>\n",
       "      <td>NaN</td>\n",
       "      <td>142.0</td>\n",
       "      <td>52682.0</td>\n",
       "      <td>0</td>\n",
       "      <td>NaN</td>\n",
       "      <td>0.0</td>\n",
       "      <td>0</td>\n",
       "      <td>0</td>\n",
       "      <td>0.0</td>\n",
       "      <td>0.0</td>\n",
       "      <td>3.0</td>\n",
       "      <td>0</td>\n",
       "    </tr>\n",
       "    <tr>\n",
       "      <th>3</th>\n",
       "      <td>00000b11598a75ea8ba1beea8459149f</td>\n",
       "      <td>win8defender</td>\n",
       "      <td>1.1.15100.1</td>\n",
       "      <td>4.18.1807.18075</td>\n",
       "      <td>1.273.1527.0</td>\n",
       "      <td>0</td>\n",
       "      <td>7.0</td>\n",
       "      <td>0</td>\n",
       "      <td>NaN</td>\n",
       "      <td>53447.0</td>\n",
       "      <td>1.0</td>\n",
       "      <td>1.0</td>\n",
       "      <td>1</td>\n",
       "      <td>88</td>\n",
       "      <td>20710.0</td>\n",
       "      <td>NaN</td>\n",
       "      <td>117</td>\n",
       "      <td>115</td>\n",
       "      <td>windows10</td>\n",
       "      <td>x64</td>\n",
       "      <td>10.0.0.0</td>\n",
       "      <td>17134</td>\n",
       "      <td>256</td>\n",
       "      <td>rs4</td>\n",
       "      <td>17134.1.amd64fre.rs4_release.180410-1804</td>\n",
       "      <td>Pro</td>\n",
       "      <td>1.0</td>\n",
       "      <td>0</td>\n",
       "      <td>NaN</td>\n",
       "      <td>0.0</td>\n",
       "      <td>137.0</td>\n",
       "      <td>ExistsNotSet</td>\n",
       "      <td>1.0</td>\n",
       "      <td>1.0</td>\n",
       "      <td>Desktop</td>\n",
       "      <td>Windows.Desktop</td>\n",
       "      <td>1443.0</td>\n",
       "      <td>275890.0</td>\n",
       "      <td>4.0</td>\n",
       "      <td>5.0</td>\n",
       "      <td>...</td>\n",
       "      <td>UNKNOWN</td>\n",
       "      <td>227116.0</td>\n",
       "      <td>0</td>\n",
       "      <td>4096.0</td>\n",
       "      <td>MiniTower</td>\n",
       "      <td>18.5</td>\n",
       "      <td>1366.0</td>\n",
       "      <td>768.0</td>\n",
       "      <td>Desktop</td>\n",
       "      <td>NaN</td>\n",
       "      <td>4.294967e+09</td>\n",
       "      <td>10.0.17134.228</td>\n",
       "      <td>amd64</td>\n",
       "      <td>rs4_release</td>\n",
       "      <td>17134</td>\n",
       "      <td>228</td>\n",
       "      <td>Professional</td>\n",
       "      <td>PROFESSIONAL</td>\n",
       "      <td>UUPUpgrade</td>\n",
       "      <td>17.0</td>\n",
       "      <td>64</td>\n",
       "      <td>FullAuto</td>\n",
       "      <td>0</td>\n",
       "      <td>IS_GENUINE</td>\n",
       "      <td>OEM:NONSLP</td>\n",
       "      <td>NaN</td>\n",
       "      <td>0.0</td>\n",
       "      <td>Retail</td>\n",
       "      <td>NaN</td>\n",
       "      <td>355.0</td>\n",
       "      <td>20050.0</td>\n",
       "      <td>0</td>\n",
       "      <td>NaN</td>\n",
       "      <td>0.0</td>\n",
       "      <td>0</td>\n",
       "      <td>0</td>\n",
       "      <td>0.0</td>\n",
       "      <td>0.0</td>\n",
       "      <td>3.0</td>\n",
       "      <td>1</td>\n",
       "    </tr>\n",
       "    <tr>\n",
       "      <th>4</th>\n",
       "      <td>000014a5f00daa18e76b81417eeb99fc</td>\n",
       "      <td>win8defender</td>\n",
       "      <td>1.1.15100.1</td>\n",
       "      <td>4.18.1807.18075</td>\n",
       "      <td>1.273.1379.0</td>\n",
       "      <td>0</td>\n",
       "      <td>7.0</td>\n",
       "      <td>0</td>\n",
       "      <td>NaN</td>\n",
       "      <td>53447.0</td>\n",
       "      <td>1.0</td>\n",
       "      <td>1.0</td>\n",
       "      <td>1</td>\n",
       "      <td>18</td>\n",
       "      <td>37376.0</td>\n",
       "      <td>NaN</td>\n",
       "      <td>277</td>\n",
       "      <td>75</td>\n",
       "      <td>windows10</td>\n",
       "      <td>x64</td>\n",
       "      <td>10.0.0.0</td>\n",
       "      <td>17134</td>\n",
       "      <td>768</td>\n",
       "      <td>rs4</td>\n",
       "      <td>17134.1.amd64fre.rs4_release.180410-1804</td>\n",
       "      <td>Home</td>\n",
       "      <td>1.0</td>\n",
       "      <td>0</td>\n",
       "      <td>NaN</td>\n",
       "      <td>0.0</td>\n",
       "      <td>137.0</td>\n",
       "      <td>RequireAdmin</td>\n",
       "      <td>1.0</td>\n",
       "      <td>1.0</td>\n",
       "      <td>Notebook</td>\n",
       "      <td>Windows.Desktop</td>\n",
       "      <td>1443.0</td>\n",
       "      <td>331929.0</td>\n",
       "      <td>4.0</td>\n",
       "      <td>5.0</td>\n",
       "      <td>...</td>\n",
       "      <td>HDD</td>\n",
       "      <td>101900.0</td>\n",
       "      <td>0</td>\n",
       "      <td>6144.0</td>\n",
       "      <td>Portable</td>\n",
       "      <td>14.0</td>\n",
       "      <td>1366.0</td>\n",
       "      <td>768.0</td>\n",
       "      <td>Mobile</td>\n",
       "      <td>lion</td>\n",
       "      <td>0.000000e+00</td>\n",
       "      <td>10.0.17134.191</td>\n",
       "      <td>amd64</td>\n",
       "      <td>rs4_release</td>\n",
       "      <td>17134</td>\n",
       "      <td>191</td>\n",
       "      <td>Core</td>\n",
       "      <td>CORE</td>\n",
       "      <td>Update</td>\n",
       "      <td>8.0</td>\n",
       "      <td>31</td>\n",
       "      <td>FullAuto</td>\n",
       "      <td>0</td>\n",
       "      <td>IS_GENUINE</td>\n",
       "      <td>Retail</td>\n",
       "      <td>0.0</td>\n",
       "      <td>0.0</td>\n",
       "      <td>Retail</td>\n",
       "      <td>0.0</td>\n",
       "      <td>355.0</td>\n",
       "      <td>19844.0</td>\n",
       "      <td>0</td>\n",
       "      <td>0.0</td>\n",
       "      <td>0.0</td>\n",
       "      <td>0</td>\n",
       "      <td>0</td>\n",
       "      <td>0.0</td>\n",
       "      <td>0.0</td>\n",
       "      <td>1.0</td>\n",
       "      <td>1</td>\n",
       "    </tr>\n",
       "  </tbody>\n",
       "</table>\n",
       "</div>"
      ],
      "text/plain": [
       "                  MachineIdentifier      ...      HasDetections\n",
       "0  0000028988387b115f69f31a3bf04f09      ...                  0\n",
       "1  000007535c3f730efa9ea0b7ef1bd645      ...                  0\n",
       "2  000007905a28d863f6d0d597892cd692      ...                  0\n",
       "3  00000b11598a75ea8ba1beea8459149f      ...                  1\n",
       "4  000014a5f00daa18e76b81417eeb99fc      ...                  1\n",
       "\n",
       "[5 rows x 83 columns]"
      ]
     },
     "execution_count": 14,
     "metadata": {},
     "output_type": "execute_result"
    }
   ],
   "source": [
    "df.head(5)"
   ]
  },
  {
   "cell_type": "code",
   "execution_count": 17,
   "metadata": {
    "ExecuteTime": {
     "end_time": "2019-03-02T06:53:45.941066Z",
     "start_time": "2019-03-02T06:53:45.923075Z"
    }
   },
   "outputs": [
    {
     "data": {
      "text/html": [
       "<div>\n",
       "<style scoped>\n",
       "    .dataframe tbody tr th:only-of-type {\n",
       "        vertical-align: middle;\n",
       "    }\n",
       "\n",
       "    .dataframe tbody tr th {\n",
       "        vertical-align: top;\n",
       "    }\n",
       "\n",
       "    .dataframe thead th {\n",
       "        text-align: right;\n",
       "    }\n",
       "</style>\n",
       "<table border=\"1\" class=\"dataframe\">\n",
       "  <thead>\n",
       "    <tr style=\"text-align: right;\">\n",
       "      <th></th>\n",
       "      <th>ProductName</th>\n",
       "      <th>Platform</th>\n",
       "      <th>OsBuild</th>\n",
       "    </tr>\n",
       "  </thead>\n",
       "  <tbody>\n",
       "    <tr>\n",
       "      <th>0</th>\n",
       "      <td>win8defender</td>\n",
       "      <td>windows10</td>\n",
       "      <td>17134</td>\n",
       "    </tr>\n",
       "    <tr>\n",
       "      <th>1</th>\n",
       "      <td>win8defender</td>\n",
       "      <td>windows10</td>\n",
       "      <td>17134</td>\n",
       "    </tr>\n",
       "    <tr>\n",
       "      <th>2</th>\n",
       "      <td>win8defender</td>\n",
       "      <td>windows10</td>\n",
       "      <td>17134</td>\n",
       "    </tr>\n",
       "    <tr>\n",
       "      <th>3</th>\n",
       "      <td>win8defender</td>\n",
       "      <td>windows10</td>\n",
       "      <td>17134</td>\n",
       "    </tr>\n",
       "    <tr>\n",
       "      <th>4</th>\n",
       "      <td>win8defender</td>\n",
       "      <td>windows10</td>\n",
       "      <td>17134</td>\n",
       "    </tr>\n",
       "  </tbody>\n",
       "</table>\n",
       "</div>"
      ],
      "text/plain": [
       "    ProductName   Platform  OsBuild\n",
       "0  win8defender  windows10    17134\n",
       "1  win8defender  windows10    17134\n",
       "2  win8defender  windows10    17134\n",
       "3  win8defender  windows10    17134\n",
       "4  win8defender  windows10    17134"
      ]
     },
     "execution_count": 17,
     "metadata": {},
     "output_type": "execute_result"
    }
   ],
   "source": [
    "cols_to_use = ['ProductName', 'Platform', 'OsBuild']\n",
    "X_raw = df[cols_to_use]\n",
    "X_raw.head(5)"
   ]
  },
  {
   "cell_type": "code",
   "execution_count": 28,
   "metadata": {
    "ExecuteTime": {
     "end_time": "2019-03-02T07:00:26.411314Z",
     "start_time": "2019-03-02T07:00:26.404359Z"
    }
   },
   "outputs": [
    {
     "data": {
      "text/plain": [
       "array(['win8defender', 'mse'], dtype=object)"
      ]
     },
     "execution_count": 28,
     "metadata": {},
     "output_type": "execute_result"
    }
   ],
   "source": [
    "X_raw['ProductName'].unique()"
   ]
  },
  {
   "cell_type": "code",
   "execution_count": 25,
   "metadata": {
    "ExecuteTime": {
     "end_time": "2019-03-02T06:59:59.872381Z",
     "start_time": "2019-03-02T06:59:59.869242Z"
    }
   },
   "outputs": [],
   "source": [
    "onehot = OneHotEncoder(sparse=False)"
   ]
  },
  {
   "cell_type": "code",
   "execution_count": 26,
   "metadata": {
    "ExecuteTime": {
     "end_time": "2019-03-02T07:00:00.999786Z",
     "start_time": "2019-03-02T07:00:00.995744Z"
    }
   },
   "outputs": [],
   "source": [
    "pname = X_raw['ProductName'].values.reshape(-1, 1)"
   ]
  },
  {
   "cell_type": "code",
   "execution_count": 30,
   "metadata": {
    "ExecuteTime": {
     "end_time": "2019-03-02T07:01:53.575031Z",
     "start_time": "2019-03-02T07:01:53.568036Z"
    }
   },
   "outputs": [],
   "source": [
    "onehot.fit(pname)\n",
    "pname_encoded = onehot.transform(pname)"
   ]
  },
  {
   "cell_type": "code",
   "execution_count": 29,
   "metadata": {
    "ExecuteTime": {
     "end_time": "2019-03-02T07:01:28.347007Z",
     "start_time": "2019-03-02T07:01:28.335986Z"
    }
   },
   "outputs": [
    {
     "data": {
      "text/plain": [
       "array([[1.],\n",
       "       [1.],\n",
       "       [1.],\n",
       "       ...,\n",
       "       [1.],\n",
       "       [1.],\n",
       "       [1.]])"
      ]
     },
     "execution_count": 29,
     "metadata": {},
     "output_type": "execute_result"
    }
   ],
   "source": [
    "ordinal = OrdinalEncoder()\n",
    "ordinal.fit_transform(pname)"
   ]
  },
  {
   "cell_type": "code",
   "execution_count": 32,
   "metadata": {
    "ExecuteTime": {
     "end_time": "2019-03-02T07:02:34.243454Z",
     "start_time": "2019-03-02T07:02:34.230755Z"
    }
   },
   "outputs": [
    {
     "data": {
      "text/plain": [
       "array(['windows10', 'windows7', 'windows8', 'windows2016'], dtype=object)"
      ]
     },
     "execution_count": 32,
     "metadata": {},
     "output_type": "execute_result"
    }
   ],
   "source": [
    "X_raw['Platform'].unique()"
   ]
  },
  {
   "cell_type": "code",
   "execution_count": 37,
   "metadata": {
    "ExecuteTime": {
     "end_time": "2019-03-02T07:04:59.542096Z",
     "start_time": "2019-03-02T07:04:59.533093Z"
    }
   },
   "outputs": [],
   "source": [
    "platform = X_raw['Platform'].values.reshape(-1, 1)\n",
    "onehot2 = OneHotEncoder(sparse=False)\n",
    "platform_encoded = onehot2.fit_transform(platform)"
   ]
  },
  {
   "cell_type": "code",
   "execution_count": 36,
   "metadata": {
    "ExecuteTime": {
     "end_time": "2019-03-02T07:04:45.693217Z",
     "start_time": "2019-03-02T07:04:45.684220Z"
    }
   },
   "outputs": [
    {
     "data": {
      "text/plain": [
       "array([[0.],\n",
       "       [0.],\n",
       "       [0.],\n",
       "       ...,\n",
       "       [0.],\n",
       "       [0.],\n",
       "       [0.]])"
      ]
     },
     "execution_count": 36,
     "metadata": {},
     "output_type": "execute_result"
    }
   ],
   "source": [
    "ordinal2 = OrdinalEncoder()\n",
    "ordinal2.fit_transform(platform)"
   ]
  },
  {
   "cell_type": "code",
   "execution_count": 40,
   "metadata": {
    "ExecuteTime": {
     "end_time": "2019-03-02T07:06:14.161509Z",
     "start_time": "2019-03-02T07:06:14.153383Z"
    }
   },
   "outputs": [],
   "source": [
    "osbuild = X_raw['OsBuild'].values.reshape(-1, 1)\n",
    "onehot3 = OneHotEncoder(sparse=False, categories='auto')\n",
    "osbuild_encoded = onehot3.fit_transform(osbuild)"
   ]
  },
  {
   "cell_type": "code",
   "execution_count": 42,
   "metadata": {
    "ExecuteTime": {
     "end_time": "2019-03-02T07:07:14.383095Z",
     "start_time": "2019-03-02T07:07:14.374060Z"
    }
   },
   "outputs": [
    {
     "data": {
      "text/plain": [
       "array([[0., 1., 1., ..., 0., 0., 0.],\n",
       "       [0., 1., 1., ..., 0., 0., 0.],\n",
       "       [0., 1., 1., ..., 0., 0., 0.],\n",
       "       ...,\n",
       "       [0., 1., 1., ..., 0., 0., 0.],\n",
       "       [0., 1., 1., ..., 0., 0., 0.],\n",
       "       [0., 1., 1., ..., 0., 0., 0.]])"
      ]
     },
     "execution_count": 42,
     "metadata": {},
     "output_type": "execute_result"
    }
   ],
   "source": [
    "X = np.concatenate([pname_encoded, platform_encoded, osbuild_encoded], axis=1)\n",
    "X"
   ]
  },
  {
   "cell_type": "code",
   "execution_count": 43,
   "metadata": {
    "ExecuteTime": {
     "end_time": "2019-03-02T07:07:26.491717Z",
     "start_time": "2019-03-02T07:07:26.486752Z"
    }
   },
   "outputs": [
    {
     "data": {
      "text/plain": [
       "(10000, 29)"
      ]
     },
     "execution_count": 43,
     "metadata": {},
     "output_type": "execute_result"
    }
   ],
   "source": [
    "X.shape"
   ]
  },
  {
   "cell_type": "code",
   "execution_count": 54,
   "metadata": {
    "ExecuteTime": {
     "end_time": "2019-03-02T07:12:17.725311Z",
     "start_time": "2019-03-02T07:12:17.663233Z"
    }
   },
   "outputs": [],
   "source": [
    "input_ = Input(shape=(29,))\n",
    "dense1 = Dense(32, activation=relu)(input_)\n",
    "dense2 = Dense(32, activation=relu)(dense1)\n",
    "dense3 = Dense(32, activation=relu)(dense2)\n",
    "output = Dense(1)(dense3)"
   ]
  },
  {
   "cell_type": "code",
   "execution_count": 45,
   "metadata": {
    "ExecuteTime": {
     "end_time": "2019-03-02T07:09:06.134184Z",
     "start_time": "2019-03-02T07:09:06.130188Z"
    }
   },
   "outputs": [],
   "source": [
    "model = Model(inputs=input_, outputs=output)"
   ]
  },
  {
   "cell_type": "code",
   "execution_count": 55,
   "metadata": {
    "ExecuteTime": {
     "end_time": "2019-03-02T07:12:20.997950Z",
     "start_time": "2019-03-02T07:12:20.990946Z"
    }
   },
   "outputs": [
    {
     "name": "stdout",
     "output_type": "stream",
     "text": [
      "_________________________________________________________________\n",
      "Layer (type)                 Output Shape              Param #   \n",
      "=================================================================\n",
      "input_1 (InputLayer)         (None, 29)                0         \n",
      "_________________________________________________________________\n",
      "dense_1 (Dense)              (None, 32)                960       \n",
      "_________________________________________________________________\n",
      "dense_2 (Dense)              (None, 32)                1056      \n",
      "_________________________________________________________________\n",
      "dense_3 (Dense)              (None, 1)                 33        \n",
      "=================================================================\n",
      "Total params: 2,049\n",
      "Trainable params: 2,049\n",
      "Non-trainable params: 0\n",
      "_________________________________________________________________\n"
     ]
    }
   ],
   "source": [
    "model.summary()"
   ]
  },
  {
   "cell_type": "code",
   "execution_count": 56,
   "metadata": {
    "ExecuteTime": {
     "end_time": "2019-03-02T07:12:24.650047Z",
     "start_time": "2019-03-02T07:12:24.604133Z"
    }
   },
   "outputs": [],
   "source": [
    "model.compile(SGD(), binary_crossentropy)"
   ]
  },
  {
   "cell_type": "code",
   "execution_count": 57,
   "metadata": {
    "ExecuteTime": {
     "end_time": "2019-03-02T07:12:56.944127Z",
     "start_time": "2019-03-02T07:12:25.795449Z"
    }
   },
   "outputs": [
    {
     "name": "stdout",
     "output_type": "stream",
     "text": [
      "Epoch 1/100\n",
      "10000/10000 [==============================] - 0s 45us/step - loss: 0.6928\n",
      "Epoch 2/100\n",
      "10000/10000 [==============================] - 0s 27us/step - loss: 0.6923\n",
      "Epoch 3/100\n",
      "10000/10000 [==============================] - 0s 32us/step - loss: 0.6927\n",
      "Epoch 4/100\n",
      "10000/10000 [==============================] - 0s 28us/step - loss: 0.6929\n",
      "Epoch 5/100\n",
      "10000/10000 [==============================] - 0s 27us/step - loss: 0.6927\n",
      "Epoch 6/100\n",
      "10000/10000 [==============================] - 0s 27us/step - loss: 0.6924\n",
      "Epoch 7/100\n",
      "10000/10000 [==============================] - 0s 33us/step - loss: 0.6925\n",
      "Epoch 8/100\n",
      "10000/10000 [==============================] - 0s 31us/step - loss: 0.6924\n",
      "Epoch 9/100\n",
      "10000/10000 [==============================] - 0s 28us/step - loss: 0.6929\n",
      "Epoch 10/100\n",
      "10000/10000 [==============================] - 0s 27us/step - loss: 0.6927\n",
      "Epoch 11/100\n",
      "10000/10000 [==============================] - 0s 32us/step - loss: 0.6923\n",
      "Epoch 12/100\n",
      "10000/10000 [==============================] - 0s 30us/step - loss: 0.6926\n",
      "Epoch 13/100\n",
      "10000/10000 [==============================] - 0s 29us/step - loss: 0.6929\n",
      "Epoch 14/100\n",
      "10000/10000 [==============================] - 0s 27us/step - loss: 0.6927\n",
      "Epoch 15/100\n",
      "10000/10000 [==============================] - 0s 27us/step - loss: 0.6926\n",
      "Epoch 16/100\n",
      "10000/10000 [==============================] - 0s 27us/step - loss: 0.6925\n",
      "Epoch 17/100\n",
      "10000/10000 [==============================] - 0s 27us/step - loss: 0.6926\n",
      "Epoch 18/100\n",
      "10000/10000 [==============================] - 0s 28us/step - loss: 0.6929\n",
      "Epoch 19/100\n",
      "10000/10000 [==============================] - 0s 30us/step - loss: 0.6923\n",
      "Epoch 20/100\n",
      "10000/10000 [==============================] - 0s 31us/step - loss: 0.6921\n",
      "Epoch 21/100\n",
      "10000/10000 [==============================] - 0s 27us/step - loss: 0.6927\n",
      "Epoch 22/100\n",
      "10000/10000 [==============================] - 0s 28us/step - loss: 0.6925\n",
      "Epoch 23/100\n",
      "10000/10000 [==============================] - 0s 32us/step - loss: 0.6926\n",
      "Epoch 24/100\n",
      "10000/10000 [==============================] - 0s 29us/step - loss: 0.6924\n",
      "Epoch 25/100\n",
      "10000/10000 [==============================] - 0s 29us/step - loss: 0.6928\n",
      "Epoch 26/100\n",
      "10000/10000 [==============================] - 0s 32us/step - loss: 0.6926\n",
      "Epoch 27/100\n",
      "10000/10000 [==============================] - 0s 33us/step - loss: 0.6925\n",
      "Epoch 28/100\n",
      "10000/10000 [==============================] - 0s 29us/step - loss: 0.6928\n",
      "Epoch 29/100\n",
      "10000/10000 [==============================] - 0s 30us/step - loss: 0.6925\n",
      "Epoch 30/100\n",
      "10000/10000 [==============================] - 0s 29us/step - loss: 0.6926\n",
      "Epoch 31/100\n",
      "10000/10000 [==============================] - 0s 29us/step - loss: 0.6926\n",
      "Epoch 32/100\n",
      "10000/10000 [==============================] - 0s 29us/step - loss: 0.6924\n",
      "Epoch 33/100\n",
      "10000/10000 [==============================] - 0s 32us/step - loss: 0.6925\n",
      "Epoch 34/100\n",
      "10000/10000 [==============================] - 0s 29us/step - loss: 0.6924\n",
      "Epoch 35/100\n",
      "10000/10000 [==============================] - 0s 29us/step - loss: 0.6926\n",
      "Epoch 36/100\n",
      "10000/10000 [==============================] - 0s 31us/step - loss: 0.6925\n",
      "Epoch 37/100\n",
      "10000/10000 [==============================] - 0s 28us/step - loss: 0.6926\n",
      "Epoch 38/100\n",
      "10000/10000 [==============================] - 0s 29us/step - loss: 0.6927\n",
      "Epoch 39/100\n",
      "10000/10000 [==============================] - 0s 30us/step - loss: 0.6925\n",
      "Epoch 40/100\n",
      "10000/10000 [==============================] - 0s 28us/step - loss: 0.6923\n",
      "Epoch 41/100\n",
      "10000/10000 [==============================] - 0s 30us/step - loss: 0.6923\n",
      "Epoch 42/100\n",
      "10000/10000 [==============================] - 0s 32us/step - loss: 0.6925: 0s - loss: 0.\n",
      "Epoch 43/100\n",
      "10000/10000 [==============================] - 0s 31us/step - loss: 0.6923\n",
      "Epoch 44/100\n",
      "10000/10000 [==============================] - 0s 32us/step - loss: 0.6924\n",
      "Epoch 45/100\n",
      "10000/10000 [==============================] - 0s 29us/step - loss: 0.6926\n",
      "Epoch 46/100\n",
      "10000/10000 [==============================] - 0s 30us/step - loss: 0.6926\n",
      "Epoch 47/100\n",
      "10000/10000 [==============================] - 0s 28us/step - loss: 0.6925\n",
      "Epoch 48/100\n",
      "10000/10000 [==============================] - 0s 31us/step - loss: 0.6925\n",
      "Epoch 49/100\n",
      "10000/10000 [==============================] - 0s 30us/step - loss: 0.6925\n",
      "Epoch 50/100\n",
      "10000/10000 [==============================] - 0s 29us/step - loss: 0.6923\n",
      "Epoch 51/100\n",
      "10000/10000 [==============================] - 0s 28us/step - loss: 0.6924\n",
      "Epoch 52/100\n",
      "10000/10000 [==============================] - 0s 33us/step - loss: 0.6922\n",
      "Epoch 53/100\n",
      "10000/10000 [==============================] - 0s 29us/step - loss: 0.6927\n",
      "Epoch 54/100\n",
      "10000/10000 [==============================] - 0s 26us/step - loss: 0.6924\n",
      "Epoch 55/100\n",
      "10000/10000 [==============================] - 0s 28us/step - loss: 0.6927\n",
      "Epoch 56/100\n",
      "10000/10000 [==============================] - 0s 28us/step - loss: 0.6925\n",
      "Epoch 57/100\n",
      "10000/10000 [==============================] - 0s 29us/step - loss: 0.6926\n",
      "Epoch 58/100\n",
      "10000/10000 [==============================] - 0s 28us/step - loss: 0.6925\n",
      "Epoch 59/100\n",
      "10000/10000 [==============================] - 0s 45us/step - loss: 0.6924\n",
      "Epoch 60/100\n",
      "10000/10000 [==============================] - 0s 43us/step - loss: 0.6923\n",
      "Epoch 61/100\n",
      "10000/10000 [==============================] - 0s 37us/step - loss: 0.6926\n",
      "Epoch 62/100\n",
      "10000/10000 [==============================] - 0s 39us/step - loss: 0.6924\n",
      "Epoch 63/100\n",
      "10000/10000 [==============================] - 0s 37us/step - loss: 0.6924\n",
      "Epoch 64/100\n",
      "10000/10000 [==============================] - 0s 32us/step - loss: 0.6922\n",
      "Epoch 65/100\n",
      "10000/10000 [==============================] - 0s 36us/step - loss: 0.6924\n",
      "Epoch 66/100\n",
      "10000/10000 [==============================] - 0s 34us/step - loss: 0.6925\n",
      "Epoch 67/100\n",
      "10000/10000 [==============================] - 0s 31us/step - loss: 0.6923\n",
      "Epoch 68/100\n",
      "10000/10000 [==============================] - 0s 32us/step - loss: 0.6925\n",
      "Epoch 69/100\n",
      "10000/10000 [==============================] - 0s 32us/step - loss: 0.6924\n",
      "Epoch 70/100\n",
      "10000/10000 [==============================] - 0s 31us/step - loss: 0.6924\n",
      "Epoch 71/100\n",
      "10000/10000 [==============================] - 0s 31us/step - loss: 0.6923\n",
      "Epoch 72/100\n",
      "10000/10000 [==============================] - 0s 34us/step - loss: 0.6922\n",
      "Epoch 73/100\n",
      "10000/10000 [==============================] - 0s 30us/step - loss: 0.6924\n",
      "Epoch 74/100\n",
      "10000/10000 [==============================] - 0s 30us/step - loss: 0.6922\n",
      "Epoch 75/100\n",
      "10000/10000 [==============================] - 0s 32us/step - loss: 0.6924\n",
      "Epoch 76/100\n",
      "10000/10000 [==============================] - 0s 35us/step - loss: 0.6923\n",
      "Epoch 77/100\n",
      "10000/10000 [==============================] - 0s 35us/step - loss: 0.6924\n",
      "Epoch 78/100\n",
      "10000/10000 [==============================] - 0s 35us/step - loss: 0.6924\n",
      "Epoch 79/100\n",
      "10000/10000 [==============================] - 0s 32us/step - loss: 0.6924\n",
      "Epoch 80/100\n",
      "10000/10000 [==============================] - 0s 32us/step - loss: 0.6923\n",
      "Epoch 81/100\n",
      "10000/10000 [==============================] - 0s 31us/step - loss: 0.6926\n",
      "Epoch 82/100\n",
      "10000/10000 [==============================] - 0s 33us/step - loss: 0.6925\n",
      "Epoch 83/100\n",
      "10000/10000 [==============================] - 0s 31us/step - loss: 0.6925\n",
      "Epoch 84/100\n",
      "10000/10000 [==============================] - 0s 30us/step - loss: 0.6923\n",
      "Epoch 85/100\n",
      "10000/10000 [==============================] - 0s 35us/step - loss: 0.6926\n",
      "Epoch 86/100\n",
      "10000/10000 [==============================] - 0s 29us/step - loss: 0.6925\n",
      "Epoch 87/100\n",
      "10000/10000 [==============================] - 0s 30us/step - loss: 0.6924\n",
      "Epoch 88/100\n",
      "10000/10000 [==============================] - 0s 31us/step - loss: 0.6921\n",
      "Epoch 89/100\n",
      "10000/10000 [==============================] - 0s 30us/step - loss: 0.6926\n",
      "Epoch 90/100\n",
      "10000/10000 [==============================] - 0s 30us/step - loss: 0.6924\n",
      "Epoch 91/100\n",
      "10000/10000 [==============================] - 0s 31us/step - loss: 0.6917\n",
      "Epoch 92/100\n",
      "10000/10000 [==============================] - 0s 33us/step - loss: 0.6926\n",
      "Epoch 93/100\n",
      "10000/10000 [==============================] - 0s 36us/step - loss: 0.6925\n",
      "Epoch 94/100\n"
     ]
    },
    {
     "name": "stdout",
     "output_type": "stream",
     "text": [
      "10000/10000 [==============================] - 0s 34us/step - loss: 0.6926\n",
      "Epoch 95/100\n",
      "10000/10000 [==============================] - 0s 29us/step - loss: 0.6918\n",
      "Epoch 96/100\n",
      "10000/10000 [==============================] - 0s 27us/step - loss: 0.6926\n",
      "Epoch 97/100\n",
      "10000/10000 [==============================] - 0s 26us/step - loss: 0.6923\n",
      "Epoch 98/100\n",
      "10000/10000 [==============================] - 0s 28us/step - loss: 0.6923\n",
      "Epoch 99/100\n",
      "10000/10000 [==============================] - 0s 28us/step - loss: 0.6925\n",
      "Epoch 100/100\n",
      "10000/10000 [==============================] - 0s 28us/step - loss: 0.6923\n"
     ]
    },
    {
     "data": {
      "text/plain": [
       "<keras.callbacks.History at 0x23fc6c9b9e8>"
      ]
     },
     "execution_count": 57,
     "metadata": {},
     "output_type": "execute_result"
    }
   ],
   "source": [
    "model.fit(X, y, batch_size=32, epochs=100, )"
   ]
  }
 ],
 "metadata": {
  "kernelspec": {
   "display_name": "Python 3",
   "language": "python",
   "name": "python3"
  },
  "language_info": {
   "codemirror_mode": {
    "name": "ipython",
    "version": 3
   },
   "file_extension": ".py",
   "mimetype": "text/x-python",
   "name": "python",
   "nbconvert_exporter": "python",
   "pygments_lexer": "ipython3",
   "version": "3.6.8"
  }
 },
 "nbformat": 4,
 "nbformat_minor": 2
}
