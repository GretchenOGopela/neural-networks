{
 "cells": [
  {
   "cell_type": "markdown",
   "metadata": {},
   "source": [
    "# Transfer Learning\n",
    "\n",
    "This notebook shows how to apply transfer learning on image datasets"
   ]
  },
  {
   "cell_type": "markdown",
   "metadata": {},
   "source": [
    "### Import all the needed modules"
   ]
  },
  {
   "cell_type": "code",
   "execution_count": 1,
   "metadata": {
    "ExecuteTime": {
     "end_time": "2019-03-13T13:34:47.416060Z",
     "start_time": "2019-03-13T13:34:45.812050Z"
    }
   },
   "outputs": [],
   "source": [
    "import tensorflow as tf\n",
    "import matplotlib.pyplot as plt\n",
    "import seaborn as sns\n",
    "import numpy as np\n",
    "from sklearn.metrics import roc_auc_score, accuracy_score, confusion_matrix, classification_report\n",
    "\n",
    "sns.set()"
   ]
  },
  {
   "cell_type": "markdown",
   "metadata": {},
   "source": [
    "### Define paths for the data location and the place to save the model\n",
    "\n",
    "Unfortunately the data used here is a private data. However it can be replaced by any healthy/unhealthy classification problem as long as the folder structure is followed.\n",
    "\n",
    "*   training\n",
    "    *   healthy\n",
    "    *   unhealthy    \n",
    "*   test    \n",
    "    *   healthy\n",
    "    *   unhealthy"
   ]
  },
  {
   "cell_type": "code",
   "execution_count": 2,
   "metadata": {
    "ExecuteTime": {
     "end_time": "2019-03-13T13:42:00.019264Z",
     "start_time": "2019-03-13T13:42:00.016388Z"
    }
   },
   "outputs": [],
   "source": [
    "TRAIN_DIR = '~/datasets/rice/train/'\n",
    "TEST_DIR = '~/datasets/rice/test/'\n",
    "CKPT_DIR='vgg_16_ckpts_{epoch:03d}.ckpt'\n",
    "BEST_DIR='vgg_16_best.ckpt'"
   ]
  },
  {
   "cell_type": "markdown",
   "metadata": {},
   "source": [
    "### Load the images and add augmentations\n",
    "\n",
    "The training/validation set has multiple random data transformations while the training set is just scaled for the sake of normalization"
   ]
  },
  {
   "cell_type": "code",
   "execution_count": 3,
   "metadata": {
    "ExecuteTime": {
     "end_time": "2019-03-13T13:42:01.042333Z",
     "start_time": "2019-03-13T13:42:00.713058Z"
    }
   },
   "outputs": [
    {
     "name": "stdout",
     "output_type": "stream",
     "text": [
      "Found 36 images belonging to 2 classes.\n",
      "Found 8 images belonging to 2 classes.\n",
      "Found 22 images belonging to 2 classes.\n"
     ]
    }
   ],
   "source": [
    "train_idg = tf.keras.preprocessing.image.ImageDataGenerator(\n",
    "    rotation_range=360,\n",
    "    zoom_range=0.5,\n",
    "    fill_mode='reflect',\n",
    "    horizontal_flip=True,\n",
    "    vertical_flip=True,\n",
    "    validation_split=0.2,\n",
    "    rescale=1.0/255\n",
    ")\n",
    "test_idg = tf.keras.preprocessing.image.ImageDataGenerator(rescale=1.0/255)\n",
    "\n",
    "class_mode = 'binary'\n",
    "classes = {\n",
    "    'healthy': 0,\n",
    "    'unhealthy': 1,\n",
    "}\n",
    "\n",
    "train_gen = train_idg.flow_from_directory(TRAIN_DIR, (224, 224),\n",
    "                                          seed=0,\n",
    "                                          batch_size=128,\n",
    "                                          subset='training',\n",
    "                                          class_mode=class_mode,\n",
    "                                          classes=classes)\n",
    "\n",
    "valid_gen = train_idg.flow_from_directory(TRAIN_DIR, (224, 224),\n",
    "                                          seed=0,\n",
    "                                          batch_size=128,\n",
    "                                          subset='validation',\n",
    "                                          class_mode=class_mode,    \n",
    "                                          classes=classes)\n",
    "\n",
    "test_gen = test_idg.flow_from_directory(TEST_DIR, (224, 224),\n",
    "                                        class_mode=class_mode,\n",
    "                                        classes=classes,\n",
    "                                        shuffle=False,\n",
    "                                        batch_size=1)"
   ]
  },
  {
   "cell_type": "markdown",
   "metadata": {},
   "source": [
    "### Create a base model and add additional layers\n",
    "\n",
    "Load the keras VGG model without the last/top layers and add the needed layers to solve the classification problem. Also some of the initial layers of the VGG model are set to be not trainable since only fine tuning is done to the model"
   ]
  },
  {
   "cell_type": "code",
   "execution_count": 4,
   "metadata": {
    "ExecuteTime": {
     "start_time": "2019-03-10T13:32:54.349Z"
    }
   },
   "outputs": [],
   "source": [
    "img_input = tf.keras.layers.Input((224, 224, 3))\n",
    "base_model = tf.keras.applications.VGG16(include_top=False,\n",
    "                   weights='imagenet',\n",
    "                   input_tensor=img_input)\n",
    "x = base_model.output\n",
    "x = tf.keras.layers.GlobalAveragePooling2D()(x)\n",
    "x = tf.keras.layers.Dense(1024, activation='relu')(x)\n",
    "predictions = tf.keras.layers.Dense(1, activation='sigmoid')(x)\n",
    "\n",
    "model = tf.keras.Model(inputs=img_input, outputs=predictions)\n",
    "\n",
    "for layer in base_model.layers[:-4]:\n",
    "    layer.trainable = False\n",
    "    \n",
    "model.compile('adam', 'binary_crossentropy')"
   ]
  },
  {
   "cell_type": "markdown",
   "metadata": {},
   "source": [
    "### Train the Keras model\n",
    "\n",
    "Different callbacks are also added save the model and regularize training"
   ]
  },
  {
   "cell_type": "code",
   "execution_count": 5,
   "metadata": {
    "ExecuteTime": {
     "start_time": "2019-03-10T13:32:54.357Z"
    },
    "code_folding": []
   },
   "outputs": [
    {
     "name": "stdout",
     "output_type": "stream",
     "text": [
      "WARNING:tensorflow:sample_weight modes were coerced from\n",
      "  ...\n",
      "    to  \n",
      "  ['...']\n",
      "WARNING:tensorflow:sample_weight modes were coerced from\n",
      "  ...\n",
      "    to  \n",
      "  ['...']\n",
      "Train for 1 steps, validate for 1 steps\n",
      "Epoch 1/10\n",
      "WARNING:tensorflow:From c:\\users\\snowt\\.conda\\envs\\machine-learning\\lib\\site-packages\\tensorflow_core\\python\\ops\\resource_variable_ops.py:1786: calling BaseResourceVariable.__init__ (from tensorflow.python.ops.resource_variable_ops) with constraint is deprecated and will be removed in a future version.\n",
      "Instructions for updating:\n",
      "If using Keras pass *_constraint arguments to layers.\n",
      "INFO:tensorflow:Assets written to: vgg_16_ckpts_001.ckpt\\assets\n",
      "INFO:tensorflow:Assets written to: vgg_16_best.ckpt\\assets\n",
      "1/1 [==============================] - 15s 15s/step - loss: 0.6876 - val_loss: 1.4342\n",
      "Epoch 2/10\n",
      "INFO:tensorflow:Assets written to: vgg_16_ckpts_002.ckpt\\assets\n",
      "INFO:tensorflow:Assets written to: vgg_16_best.ckpt\\assets\n",
      "1/1 [==============================] - 14s 14s/step - loss: 1.5226 - val_loss: 1.0496\n",
      "Epoch 3/10\n",
      "INFO:tensorflow:Assets written to: vgg_16_ckpts_003.ckpt\\assets\n",
      "INFO:tensorflow:Assets written to: vgg_16_best.ckpt\\assets\n",
      "1/1 [==============================] - 14s 14s/step - loss: 1.2616 - val_loss: 0.6851\n",
      "Epoch 4/10\n",
      "INFO:tensorflow:Assets written to: vgg_16_ckpts_004.ckpt\\assets\n",
      "1/1 [==============================] - 12s 12s/step - loss: 0.6923 - val_loss: 0.7016\n",
      "Epoch 5/10\n",
      "INFO:tensorflow:Assets written to: vgg_16_ckpts_005.ckpt\\assets\n",
      "INFO:tensorflow:Assets written to: vgg_16_best.ckpt\\assets\n",
      "1/1 [==============================] - 14s 14s/step - loss: 0.7058 - val_loss: 0.6780\n",
      "Epoch 6/10\n",
      "INFO:tensorflow:Assets written to: vgg_16_ckpts_006.ckpt\\assets\n",
      "1/1 [==============================] - 12s 12s/step - loss: 0.6900 - val_loss: 0.7231\n",
      "Epoch 7/10\n",
      "INFO:tensorflow:Assets written to: vgg_16_ckpts_007.ckpt\\assets\n",
      "1/1 [==============================] - 12s 12s/step - loss: 0.7182 - val_loss: 0.6821\n",
      "Epoch 8/10\n",
      "INFO:tensorflow:Assets written to: vgg_16_ckpts_008.ckpt\\assets\n",
      "1/1 [==============================] - 13s 13s/step - loss: 0.6844 - val_loss: 0.6964\n",
      "Epoch 9/10\n",
      "INFO:tensorflow:Assets written to: vgg_16_ckpts_009.ckpt\\assets\n",
      "INFO:tensorflow:Assets written to: vgg_16_best.ckpt\\assets\n",
      "1/1 [==============================] - 14s 14s/step - loss: 0.7109 - val_loss: 0.6324\n",
      "Epoch 10/10\n",
      "INFO:tensorflow:Assets written to: vgg_16_ckpts_010.ckpt\\assets\n",
      "INFO:tensorflow:Assets written to: vgg_16_best.ckpt\\assets\n",
      "1/1 [==============================] - 14s 14s/step - loss: 0.6468 - val_loss: 0.6214\n"
     ]
    }
   ],
   "source": [
    "es = tf.keras.callbacks.EarlyStopping(patience=20)\n",
    "mc = tf.keras.callbacks.ModelCheckpoint(CKPT_DIR)\n",
    "bm = tf.keras.callbacks.ModelCheckpoint(BEST_DIR, save_best_only=True)\n",
    "hst = model.fit(\n",
    "    train_gen,\n",
    "    steps_per_epoch=1,\n",
    "    epochs=10,\n",
    "    callbacks=[es, mc, bm],\n",
    "    validation_data=valid_gen,\n",
    "    validation_steps=1,\n",
    "    max_queue_size=1\n",
    ")"
   ]
  },
  {
   "cell_type": "markdown",
   "metadata": {},
   "source": [
    "### Load the training data from the python generators\n",
    "\n",
    "Since the keras utilities create generators, they should be called to create the data"
   ]
  },
  {
   "cell_type": "code",
   "execution_count": 6,
   "metadata": {
    "ExecuteTime": {
     "end_time": "2019-03-13T13:42:30.170754Z",
     "start_time": "2019-03-13T13:42:13.039675Z"
    }
   },
   "outputs": [],
   "source": [
    "test_data = [next(test_gen) for _ in range(test_gen.n)]\n",
    "test_data = list(zip(*test_data))\n",
    "test_X, test_y = test_data\n",
    "test_X = np.concatenate(test_X, axis=0)\n",
    "test_y = np.concatenate(test_y, axis=0)"
   ]
  },
  {
   "cell_type": "markdown",
   "metadata": {},
   "source": [
    "### Predict the result using the best model"
   ]
  },
  {
   "cell_type": "code",
   "execution_count": 7,
   "metadata": {},
   "outputs": [
    {
     "data": {
      "text/plain": [
       "array([0., 0., 0., 0., 0., 0., 0., 0., 0., 0., 0., 1., 1., 1., 1., 1., 1.,\n",
       "       1., 1., 1., 1., 1.], dtype=float32)"
      ]
     },
     "execution_count": 7,
     "metadata": {},
     "output_type": "execute_result"
    }
   ],
   "source": [
    "test_y"
   ]
  },
  {
   "cell_type": "code",
   "execution_count": 8,
   "metadata": {
    "ExecuteTime": {
     "end_time": "2019-03-13T13:44:05.839533Z",
     "start_time": "2019-03-13T13:44:01.634487Z"
    }
   },
   "outputs": [],
   "source": [
    "best_model = tf.keras.models.load_model(BEST_DIR)\n",
    "test_y_pred = best_model.predict(test_X)"
   ]
  },
  {
   "cell_type": "code",
   "execution_count": 9,
   "metadata": {},
   "outputs": [
    {
     "data": {
      "text/plain": [
       "0.9917355371900827"
      ]
     },
     "execution_count": 9,
     "metadata": {},
     "output_type": "execute_result"
    }
   ],
   "source": [
    "roc_auc_score(test_y, test_y_pred)"
   ]
  },
  {
   "cell_type": "code",
   "execution_count": 10,
   "metadata": {},
   "outputs": [
    {
     "data": {
      "text/plain": [
       "0.7727272727272727"
      ]
     },
     "execution_count": 10,
     "metadata": {},
     "output_type": "execute_result"
    }
   ],
   "source": [
    "accuracy_score(test_y > 0.5, test_y_pred > 0.5)"
   ]
  },
  {
   "cell_type": "code",
   "execution_count": 11,
   "metadata": {},
   "outputs": [
    {
     "name": "stdout",
     "output_type": "stream",
     "text": [
      "              precision    recall  f1-score   support\n",
      "\n",
      "       False       0.69      1.00      0.81        11\n",
      "        True       1.00      0.55      0.71        11\n",
      "\n",
      "    accuracy                           0.77        22\n",
      "   macro avg       0.84      0.77      0.76        22\n",
      "weighted avg       0.84      0.77      0.76        22\n",
      "\n"
     ]
    }
   ],
   "source": [
    "print(classification_report(test_y > 0.5, test_y_pred > 0.5))"
   ]
  },
  {
   "cell_type": "code",
   "execution_count": 12,
   "metadata": {},
   "outputs": [
    {
     "data": {
      "text/plain": [
       "5"
      ]
     },
     "execution_count": 12,
     "metadata": {},
     "output_type": "execute_result"
    }
   ],
   "source": [
    "confusion_matrix(test_y > 0.5, test_y_pred > 0.5)[1, 0]"
   ]
  },
  {
   "cell_type": "code",
   "execution_count": 13,
   "metadata": {},
   "outputs": [
    {
     "data": {
      "image/png": "[encoded data removed]",
      "text/plain": [
       "<Figure size 432x288 with 2 Axes>"
      ]
     },
     "metadata": {},
     "output_type": "display_data"
    }
   ],
   "source": [
    "sns.heatmap(confusion_matrix(test_y > 0.5, test_y_pred > 0.5), annot=True)\n",
    "plt.ylabel('True')\n",
    "plt.xlabel('Pred')\n",
    "plt.show()"
   ]
  }
 ],
 "metadata": {
  "kernelspec": {
   "display_name": "Python 3",
   "language": "python",
   "name": "python3"
  },
  "language_info": {
   "codemirror_mode": {
    "name": "ipython",
    "version": 3
   },
   "file_extension": ".py",
   "mimetype": "text/x-python",
   "name": "python",
   "nbconvert_exporter": "python",
   "pygments_lexer": "ipython3",
   "version": "3.7.6"
  },
  "varInspector": {
   "cols": {
    "lenName": 16,
    "lenType": 16,
    "lenVar": 40
   },
   "kernels_config": {
    "python": {
     "delete_cmd_postfix": "",
     "delete_cmd_prefix": "del ",
     "library": "var_list.py",
     "varRefreshCmd": "print(var_dic_list())"
    },
    "r": {
     "delete_cmd_postfix": ") ",
     "delete_cmd_prefix": "rm(",
     "library": "var_list.r",
     "varRefreshCmd": "cat(var_dic_list()) "
    }
   },
   "types_to_exclude": [
    "module",
    "function",
    "builtin_function_or_method",
    "instance",
    "_Feature"
   ],
   "window_display": false
  }
 },
 "nbformat": 4,
 "nbformat_minor": 2
}
