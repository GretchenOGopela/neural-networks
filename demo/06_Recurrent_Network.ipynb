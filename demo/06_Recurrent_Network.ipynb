{
 "cells": [
  {
   "cell_type": "code",
   "execution_count": 1,
   "metadata": {
    "ExecuteTime": {
     "end_time": "2019-03-16T06:41:21.750881Z",
     "start_time": "2019-03-16T06:41:19.074661Z"
    }
   },
   "outputs": [
    {
     "name": "stderr",
     "output_type": "stream",
     "text": [
      "Using TensorFlow backend.\n"
     ]
    }
   ],
   "source": [
    "from keras.models import Model\n",
    "from keras.layers import Dense, LSTM, Input\n",
    "from keras.optimizers import SGD\n",
    "from keras.losses import mean_squared_error\n",
    "from keras.activations import relu\n",
    "import numpy as np\n",
    "import random\n",
    "from sklearn.metrics import mean_absolute_error"
   ]
  },
  {
   "cell_type": "code",
   "execution_count": 2,
   "metadata": {
    "ExecuteTime": {
     "end_time": "2019-03-16T06:41:21.790881Z",
     "start_time": "2019-03-16T06:41:21.753781Z"
    }
   },
   "outputs": [],
   "source": [
    "train_X = np.random.uniform(size=(100000, 10, 1))\n",
    "train_y = np.std(train_X, axis=1) * 10\n",
    "test_X = np.random.uniform(size=(1000, 10, 1))\n",
    "test_y = np.std(test_X, axis=1) * 10"
   ]
  },
  {
   "cell_type": "code",
   "execution_count": 3,
   "metadata": {
    "ExecuteTime": {
     "end_time": "2019-03-16T06:41:22.186782Z",
     "start_time": "2019-03-16T06:41:21.792779Z"
    }
   },
   "outputs": [
    {
     "name": "stdout",
     "output_type": "stream",
     "text": [
      "_________________________________________________________________\n",
      "Layer (type)                 Output Shape              Param #   \n",
      "=================================================================\n",
      "input_1 (InputLayer)         (None, 10, 1)             0         \n",
      "_________________________________________________________________\n",
      "lstm_1 (LSTM)                (None, 10, 32)            4352      \n",
      "_________________________________________________________________\n",
      "lstm_2 (LSTM)                (None, 32)                8320      \n",
      "_________________________________________________________________\n",
      "dense_1 (Dense)              (None, 1)                 33        \n",
      "=================================================================\n",
      "Total params: 12,705\n",
      "Trainable params: 12,705\n",
      "Non-trainable params: 0\n",
      "_________________________________________________________________\n"
     ]
    }
   ],
   "source": [
    "input_ = Input(shape=(10, 1))\n",
    "lstm1 = LSTM(32, return_sequences=True)(input_)\n",
    "lstm2 = LSTM(32)(lstm1)\n",
    "output = Dense(1)(lstm2)\n",
    "\n",
    "model = Model(inputs=input_, outputs=output)\n",
    "model.summary()"
   ]
  },
  {
   "cell_type": "code",
   "execution_count": 4,
   "metadata": {
    "ExecuteTime": {
     "end_time": "2019-03-16T06:41:22.260779Z",
     "start_time": "2019-03-16T06:41:22.191783Z"
    }
   },
   "outputs": [],
   "source": [
    "model.compile(SGD(lr=0.1), loss=mean_squared_error)"
   ]
  },
  {
   "cell_type": "code",
   "execution_count": 5,
   "metadata": {
    "ExecuteTime": {
     "end_time": "2019-03-16T06:45:48.453885Z",
     "start_time": "2019-03-16T06:41:22.263779Z"
    },
    "scrolled": true
   },
   "outputs": [
    {
     "name": "stdout",
     "output_type": "stream",
     "text": [
      "Epoch 1/10\n",
      "100000/100000 [==============================] - 26s 263us/step - loss: 0.2097\n",
      "Epoch 2/10\n",
      "100000/100000 [==============================] - 26s 256us/step - loss: 0.2052\n",
      "Epoch 3/10\n",
      "100000/100000 [==============================] - 26s 262us/step - loss: 0.2045\n",
      "Epoch 4/10\n",
      "100000/100000 [==============================] - 26s 262us/step - loss: 0.2035\n",
      "Epoch 5/10\n",
      "100000/100000 [==============================] - 27s 265us/step - loss: 0.0871\n",
      "Epoch 6/10\n",
      "100000/100000 [==============================] - 27s 265us/step - loss: 0.0101\n",
      "Epoch 7/10\n",
      "100000/100000 [==============================] - 26s 263us/step - loss: 0.0074\n",
      "Epoch 8/10\n",
      "100000/100000 [==============================] - 27s 272us/step - loss: 0.0062\n",
      "Epoch 9/10\n",
      "100000/100000 [==============================] - 27s 270us/step - loss: 0.0053\n",
      "Epoch 10/10\n",
      "100000/100000 [==============================] - 27s 270us/step - loss: 0.0048\n"
     ]
    },
    {
     "data": {
      "text/plain": [
       "<keras.callbacks.History at 0x20927702358>"
      ]
     },
     "execution_count": 5,
     "metadata": {},
     "output_type": "execute_result"
    }
   ],
   "source": [
    "model.fit(train_X, train_y, epochs=10)"
   ]
  },
  {
   "cell_type": "code",
   "execution_count": 6,
   "metadata": {
    "ExecuteTime": {
     "end_time": "2019-03-16T06:45:48.693935Z",
     "start_time": "2019-03-16T06:45:48.457891Z"
    }
   },
   "outputs": [],
   "source": [
    "test_pred = model.predict(test_X)"
   ]
  }
 ],
 "metadata": {
  "kernelspec": {
   "display_name": "Python 3",
   "language": "python",
   "name": "python3"
  },
  "language_info": {
   "codemirror_mode": {
    "name": "ipython",
    "version": 3
   },
   "file_extension": ".py",
   "mimetype": "text/x-python",
   "name": "python",
   "nbconvert_exporter": "python",
   "pygments_lexer": "ipython3",
   "version": "3.6.8"
  }
 },
 "nbformat": 4,
 "nbformat_minor": 2
}
